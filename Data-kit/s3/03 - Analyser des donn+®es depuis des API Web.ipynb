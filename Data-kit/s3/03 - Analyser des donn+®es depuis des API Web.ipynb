{
 "metadata": {
  "kernelspec": {
   "display_name": "Python 2",
   "language": "python",
   "name": "python2"
  },
  "language_info": {
   "codemirror_mode": {
    "name": "ipython",
    "version": 2
   },
   "file_extension": ".py",
   "mimetype": "text/x-python",
   "name": "python",
   "nbconvert_exporter": "python",
   "pygments_lexer": "ipython2",
   "version": "2.7.9"
  },
  "name": "",
  "signature": "sha256:2f09d368eba5cb4e0cd3b3fa3ec1a1590c8a62209f4f7bb9b9ccfdaba8a1ff15"
 },
 "nbformat": 3,
 "nbformat_minor": 0,
 "worksheets": [
  {
   "cells": [
    {
     "cell_type": "heading",
     "level": 1,
     "metadata": {},
     "source": [
      "Analyser des donn\u00e9es depuis des API Web"
     ]
    },
    {
     "cell_type": "markdown",
     "metadata": {},
     "source": [
      "Python permet de s'interfacer avec de nombreux services web (API). \n",
      "\n",
      "Dans cette partie nous verrons : \n",
      "\n",
      "- Ce qu'est une API \n",
      "- Comment Python et Pandas permettent de transformer des donn\u00e9es brutes en un DataFrame exploitable"
     ]
    },
    {
     "cell_type": "heading",
     "level": 2,
     "metadata": {},
     "source": [
      "Introduction aux API Web"
     ]
    },
    {
     "cell_type": "markdown",
     "metadata": {},
     "source": [
      "Une API (Application Programming Interface) permet de r\u00e9cup\u00e9rer des des donn\u00e9es mises \u00e0 disposition par des services Web accessibles depuis une adresse particuli\u00e8re. \n",
      "\n",
      "La plupart des services Web (Google Analytics, Mixpanel, Twitter, Facebook, le New York Times etc..) dispose d'API ce qui en fait une source de donn\u00e9es de choix. \n",
      "\n",
      "Python et Pandas sont d'excellents outils pour r\u00e9cup\u00e9rer, transformer et analyser ces donn\u00e9es web. "
     ]
    },
    {
     "cell_type": "heading",
     "level": 3,
     "metadata": {},
     "source": [
      "URLs "
     ]
    },
    {
     "cell_type": "markdown",
     "metadata": {},
     "source": [
      "Une URL (Unique Ressource Locator) permet d'identifier de mani\u00e8re unique une ressource sur Internet. Prenons l'URL suivante : "
     ]
    },
    {
     "cell_type": "raw",
     "metadata": {},
     "source": [
      "http://www.example.com/foo/bar?arg1=baz&arg2=quux"
     ]
    },
    {
     "cell_type": "markdown",
     "metadata": {},
     "source": [
      "Cette URL se d\u00e9compose en blocs logiques : \n",
      "\n",
      "- ***http://*** = le sch\u00e9ma, d\u00e9termine le protocole que nous utilisons pour communiquer avec le service Web. Nous utiliserons principalement le protocole **http**\n",
      "- ***www.example.com*** = l'h\u00f4te qui d\u00e9termine sur quel serveur de l'internet nous allons communiquer\n",
      "- ***/foo/bar*** = sp\u00e9cifie le chemin o\u00f9 se trouve la ressource\n",
      "- ***?arg1=baz&arg2=quux*** les param\u00e8tres de la requ\u00eate"
     ]
    },
    {
     "cell_type": "heading",
     "level": 3,
     "metadata": {},
     "source": [
      "HTML vs JSON"
     ]
    },
    {
     "cell_type": "markdown",
     "metadata": {},
     "source": [
      "- HTML permet de renvoyer de la donn\u00e9e pour un utilisateur. Lorsqu'une requ\u00eate est faite sur un serveur, celui-ci renvoie des \u00e9l\u00e9ments (html, css,js, etc..) permettant au navigateur d'afficher une page web **user-friendly**"
     ]
    },
    {
     "cell_type": "markdown",
     "metadata": {},
     "source": [
      "<img src='files/images/html.png' width=500>"
     ]
    },
    {
     "cell_type": "markdown",
     "metadata": {},
     "source": [
      "- JSON permet de renvoyer de la donn\u00e9e structur\u00e9e, exploitable par une machine. Lorsqu'un service doit communiquer avec un autre service, les donn\u00e9es renvoy\u00e9es sont **machine-friendly**. Plusieurs formats sont possibles (CSV, JSON, XML etc..)"
     ]
    },
    {
     "cell_type": "markdown",
     "metadata": {},
     "source": [
      "<img src='files/images/json.png' width=500>"
     ]
    },
    {
     "cell_type": "markdown",
     "metadata": {},
     "source": [
      "Le format JSON (Javascript Object Notation) est un des formats pr\u00e9f\u00e9r\u00e9s des Web API. \n",
      "\n",
      "Il peut \u00eatre compos\u00e9 de deux structures : \n",
      "\n",
      "- Dictionnaire cl\u00e9 / valeur\n",
      "- Tableaux d'objets \n",
      "\n",
      "Voici un exemple de JSON : "
     ]
    },
    {
     "cell_type": "code",
     "collapsed": false,
     "input": [
      "{\n",
      "     \"firstName\": \"John\",\n",
      "     \"lastName\": \"Smith\",\n",
      "     \"address\": {\n",
      "         \"streetAddress\": \"21 2nd Street\",\n",
      "         \"city\": \"New York\",\n",
      "         \"state\": \"NY\",\n",
      "         \"postalCode\": 10021\n",
      "     },\n",
      "     \"phoneNumbers\": [\n",
      "         \"212 555-1234\",\n",
      "         \"646 555-4567\"\n",
      "     ]\n",
      " }"
     ],
     "language": "python",
     "metadata": {},
     "outputs": []
    },
    {
     "cell_type": "heading",
     "level": 3,
     "metadata": {},
     "source": [
      "Exemples d'API populaires"
     ]
    },
    {
     "cell_type": "markdown",
     "metadata": {},
     "source": [
      "La plupart des services Web disposent d'API. Elles sont \u00e9galement document\u00e9es voici quelques exemples : "
     ]
    },
    {
     "cell_type": "markdown",
     "metadata": {},
     "source": [
      "- Facebook - https://developers.facebook.com/tools/explorer/\n",
      "- Twitter - https://dev.twitter.com/rest/tools/console\n",
      "- Google Analytics - https://ga-dev-tools.appspot.com/explorer/\n",
      "- The New York Times - http://developer.nytimes.com/docs"
     ]
    },
    {
     "cell_type": "heading",
     "level": 2,
     "metadata": {},
     "source": [
      "Let's do it ! Analyse des tweets du compte officiel de l'Elys\u00e9e"
     ]
    },
    {
     "cell_type": "markdown",
     "metadata": {},
     "source": [
      "Avec pr\u00e8s de 500 millions de tweets \u00e9mis chaque jour, Twitter est une source de donn\u00e9es in\u00e9puisable. \n",
      "\n",
      "Les donn\u00e9es sont accessibles au format JSON par une API bien document\u00e9e. \n",
      "\n",
      "L'analyse des tweets offre plusieurs possibilit\u00e9s : \n",
      "\n",
      "- Analyse temporelle (date et heure d'\u00e9mission)\n",
      "- Analyse texte, de sentiment\n",
      "- Analyse du nombre de retweets\n",
      "- Analyse de graphe (r\u00e9ponse, mentions etc..)"
     ]
    },
    {
     "cell_type": "markdown",
     "metadata": {},
     "source": [
      "Dans cet exercice, nous allons faire une analyse descriptive du compte Twitter officiel de l'Elys\u00e9e (https://twitter.com/Elysee). \n",
      "\n",
      "Nous allons essayer de r\u00e9pondre \u00e0 plusieurs questions : \n",
      "\n",
      "- Comment \u00e9volue le nombre de tweets sur le compte officiel ? \n",
      "- Y a t il des pics de retweets ? Si oui pourquoi ? \n",
      "- Quel sont les comptes que l'Elys\u00e9e mentionne le plus ? \n",
      "- Quels sont les th\u00e8mes / hashtags les plus populaires ? \n",
      "- Comment ces th\u00e8mes \u00e9voluent ils dans le temps ? "
     ]
    },
    {
     "cell_type": "heading",
     "level": 3,
     "metadata": {},
     "source": [
      "Se connecter \u00e0 l'API de Twitter"
     ]
    },
    {
     "cell_type": "markdown",
     "metadata": {},
     "source": [
      "De nombreuses librairies Python ont \u00e9t\u00e9 d\u00e9velopp\u00e9es pour \"dialoguer\" avec l'API de Twitter. \n",
      "\n",
      "Une liste officielle des librairies Twitter par langage peut \u00eatre trouv\u00e9e \u00e0 cette adresse - https://dev.twitter.com/overview/api/twitter-libraries\n",
      "    \n",
      "Pour les besoins de cet exercice, nous utiliserons la librairie **TwitterSearch** - https://github.com/ckoepp/TwitterSearch. Une documentation exhaustive des m\u00e9thodes de cette librairie est disponible \u00e0 l'adresse - https://twittersearch.readthedocs.org/en/latest/TwitterSearch.html\n",
      "\n",
      "Installez TwitterSearch depuis votre terminal en ex\u00e9cutant : "
     ]
    },
    {
     "cell_type": "code",
     "collapsed": false,
     "input": [
      "pip install TwitterSearch"
     ],
     "language": "python",
     "metadata": {},
     "outputs": []
    },
    {
     "cell_type": "markdown",
     "metadata": {},
     "source": [
      "L'acc\u00e8s \u00e0 l'API est s\u00e9curis\u00e9. Pour obtenir des cl\u00e9s d'acc\u00e8s : \n",
      "\n",
      "- Cr\u00e9ez un compte Twitter\n",
      "- Cr\u00e9ez une application sur https://apps.twitter.com/\n",
      "\n",
      "On peut d\u00e8s lors appeler la librarie TwitterSearch en sp\u00e9cifiant ses identifiants de connexion : "
     ]
    },
    {
     "cell_type": "code",
     "collapsed": false,
     "input": [
      "from TwitterSearch import *\n",
      "\n",
      "twitter_api = TwitterSearch(\n",
      "    consumer_key = '\u00a8* ',\n",
      "    consumer_secret = '*',\n",
      "    access_token = '*',\n",
      "    access_token_secret = '*'\n",
      "    )"
     ],
     "language": "python",
     "metadata": {},
     "outputs": []
    },
    {
     "cell_type": "markdown",
     "metadata": {},
     "source": [
      "Nous allons faire un premier test, en recherchant tous les tweets qui contiennent un mot en particulier. Nous utilisons pour cela la m\u00e9thode **search_tweets** de l'objet **TwitterSearchOrder()**"
     ]
    },
    {
     "cell_type": "code",
     "collapsed": false,
     "input": [
      "tso = TwitterSearchOrder() # nous cr\u00e9ons ici un objet TwitterSearchOrder()\n",
      "tso.set_keywords(['Elysee']) # recherchons tous les tweets comportant le mot Elysee\n",
      "        \n",
      "search_results = twitter_api.search_tweets(tso) # La m\u00e9thode search_tweets permet de rechercher tous les tweets "
     ],
     "language": "python",
     "metadata": {},
     "outputs": []
    },
    {
     "cell_type": "markdown",
     "metadata": {},
     "source": [
      "La r\u00e9ponse de l'API est au format JSON. Nous pouvons explorer le contenu, en utilisant la m\u00e9thode **keys()**"
     ]
    },
    {
     "cell_type": "code",
     "collapsed": false,
     "input": [
      "print search_results.keys()\n",
      "\n",
      "print search_results['content'].keys()"
     ],
     "language": "python",
     "metadata": {},
     "outputs": []
    },
    {
     "cell_type": "code",
     "collapsed": false,
     "input": [
      "print search_results"
     ],
     "language": "python",
     "metadata": {},
     "outputs": []
    },
    {
     "cell_type": "code",
     "collapsed": false,
     "input": [
      "print len(search_results['content']['statuses'])"
     ],
     "language": "python",
     "metadata": {},
     "outputs": []
    },
    {
     "cell_type": "markdown",
     "metadata": {},
     "source": [
      "L'objet'statuses' est une liste de 100 \u00e9l\u00e9ments.\n",
      "\n",
      "Nous pouvons \u00e9galement afficher les cl\u00e9s de chacun des tweets renvoy\u00e9s : "
     ]
    },
    {
     "cell_type": "code",
     "collapsed": false,
     "input": [
      "print search_results['content']['statuses'][99]['text']"
     ],
     "language": "python",
     "metadata": {},
     "outputs": []
    },
    {
     "cell_type": "heading",
     "level": 3,
     "metadata": {},
     "source": [
      "Charger et inspecter les donn\u00e9es"
     ]
    },
    {
     "cell_type": "code",
     "collapsed": false,
     "input": [
      "import json\n",
      "import pandas as pd\n",
      "import numpy as np\n",
      "import matplotlib.pyplot as plt\n",
      "import re\n",
      "from datetime import datetime"
     ],
     "language": "python",
     "metadata": {},
     "outputs": []
    },
    {
     "cell_type": "code",
     "collapsed": false,
     "input": [
      "%matplotlib inline\n",
      "pd.set_option('display.mpl_style', 'default') # rendre les graphes un plus sympas \n",
      "plt.rc('figure', figsize=(20, 5))"
     ],
     "language": "python",
     "metadata": {},
     "outputs": []
    },
    {
     "cell_type": "markdown",
     "metadata": {},
     "source": [
      "Si nous souhaitons analyser l'int\u00e9gralit\u00e9 des tweets d'un compte en particulier, nous devons utiliser l'objet **TwitterUserOrder** :"
     ]
    },
    {
     "cell_type": "code",
     "collapsed": false,
     "input": [
      "tuo = TwitterUserOrder('Elysee')\n",
      "\n",
      "elysee_results = twitter_api.search_tweets(tuo)"
     ],
     "language": "python",
     "metadata": {},
     "outputs": []
    },
    {
     "cell_type": "markdown",
     "metadata": {},
     "source": [
      "Nous pouvons afficher le premier tweet renvoy\u00e9 par notre requ\u00eate via : "
     ]
    },
    {
     "cell_type": "code",
     "collapsed": false,
     "input": [
      "elysee_results['content'][0]"
     ],
     "language": "python",
     "metadata": {},
     "outputs": []
    },
    {
     "cell_type": "markdown",
     "metadata": {},
     "source": [
      "Il nous faut donc r\u00e9aliser une **boucle**. Le temps pour r\u00e9cup\u00e9rer les donn\u00e9es pouvant \u00eatre long, on pourra utiliser le fichier **elysee.txt** qui contient un export des tweets bruts. "
     ]
    },
    {
     "cell_type": "code",
     "collapsed": false,
     "input": [
      "from TwitterSearch import *\n",
      "\n",
      "data = []\n",
      "\n",
      "try:\n",
      "    tuo = TwitterUserOrder('Elysee') \n",
      "\n",
      "    twitter_api = TwitterSearch(\n",
      "        consumer_key = 'XXX',\n",
      "        consumer_secret = 'XXX',\n",
      "        access_token = 'XXX',\n",
      "        access_token_secret = 'XXX'\n",
      "    )\n",
      "    \n",
      "    # perform search with iterables\n",
      "    for tweet in twitter_api.search_tweets_iterable(tuo):\n",
      "        data.append(tweet)\n",
      "\n",
      "except TwitterSearchException as e: # catch errors\n",
      "    print(e)"
     ],
     "language": "python",
     "metadata": {},
     "outputs": []
    },
    {
     "cell_type": "markdown",
     "metadata": {},
     "source": [
      "On peut importer le fichier **elysee.txt**, au format JSON qui contient l'ensemble des tweets de la timeline 'Elysee'"
     ]
    },
    {
     "cell_type": "code",
     "collapsed": false,
     "input": [
      "elysee = json.load(open('data/elysee.txt'))"
     ],
     "language": "python",
     "metadata": {},
     "outputs": []
    },
    {
     "cell_type": "markdown",
     "metadata": {},
     "source": [
      "Analysons rapidement la taille ainsi que la structure des objets : "
     ]
    },
    {
     "cell_type": "code",
     "collapsed": false,
     "input": [
      "len(elysee)"
     ],
     "language": "python",
     "metadata": {},
     "outputs": []
    },
    {
     "cell_type": "code",
     "collapsed": false,
     "input": [
      "# Affichons la taille du fichier\n",
      "\n",
      "print len(elysee)\n",
      "\n",
      "# Affichons les cl\u00e9s du premier \u00e9l\u00e9ment\n",
      "\n",
      "print elysee[0].keys()"
     ],
     "language": "python",
     "metadata": {},
     "outputs": []
    },
    {
     "cell_type": "heading",
     "level": 3,
     "metadata": {},
     "source": [
      "Analyser l'\u00e9volution des tweets dans le temps"
     ]
    },
    {
     "cell_type": "markdown",
     "metadata": {},
     "source": [
      "Nous allons nous int\u00e9resser dans un premier temps aux colonnes **text, retweet_count, created_at**.\n",
      "\n",
      "Au moment de cr\u00e9er notre DataFrame, nous pouvons donc sp\u00e9cifier les colonnes \u00e0 utiliser. \n",
      "\n",
      "Faire \u00e9galement attention aux Index. Nous allons travailler avec un set de donn\u00e9es temporel, il advient de bien sp\u00e9cifier l'index que nous allons utiliser : Voir ***03 - Focus s\u00e9rie temporelles avec Python***"
     ]
    },
    {
     "cell_type": "code",
     "collapsed": false,
     "input": [
      "# Nous cr\u00e9ons ici notre DataFrame\n",
      "\n",
      "colonnes = ['text','retweet_count','created_at']\n",
      "\n",
      "elysee_df = pd.DataFrame(elysee, \n",
      "                         columns=colonnes)"
     ],
     "language": "python",
     "metadata": {},
     "outputs": []
    },
    {
     "cell_type": "code",
     "collapsed": false,
     "input": [
      "# Nous transformons la colonne created_at en serie temporelle gr\u00e2ce \u00e0 la m\u00e9thode to_datetime\n",
      "\n",
      "date = pd.to_datetime(elysee_df['created_at'])"
     ],
     "language": "python",
     "metadata": {},
     "outputs": []
    },
    {
     "cell_type": "code",
     "collapsed": false,
     "input": [
      "# Nous rempla\u00e7ons l'index de notre DataFrame elysee_df en utilisant la m\u00e9thode set_index\n",
      "\n",
      "elysee_df = elysee_df.set_index(date)"
     ],
     "language": "python",
     "metadata": {},
     "outputs": []
    },
    {
     "cell_type": "code",
     "collapsed": false,
     "input": [
      "elysee_df.head()"
     ],
     "language": "python",
     "metadata": {},
     "outputs": []
    },
    {
     "cell_type": "markdown",
     "metadata": {},
     "source": [
      "Nous pouvons maintenant afficher le nombre de tweets par jours, en utilisant la m\u00e9thode resample. "
     ]
    },
    {
     "cell_type": "code",
     "collapsed": false,
     "input": [
      "count_date = elysee_df['text'].resample('W',how='count')\n",
      "\n",
      "count_date.plot().set_title('Nombre de tweets du compte @Elysee par semaine')"
     ],
     "language": "python",
     "metadata": {},
     "outputs": []
    },
    {
     "cell_type": "heading",
     "level": 3,
     "metadata": {},
     "source": [
      "A vous : "
     ]
    },
    {
     "cell_type": "markdown",
     "metadata": {},
     "source": [
      "- Afficher un graphe de l'\u00e9volution du nombre de retweets par jour. \n",
      "- Que s'est il pass\u00e9 en Juin 2014 et en Janvier 2015 ? \n",
      "- Afficher les tweets de la journ\u00e9e du 6 juin. Quel est celui qui a eu le plus de retweets?     \n",
      "- Quels sont les heures les plus importantes en terme de retweets ? "
     ]
    },
    {
     "cell_type": "heading",
     "level": 3,
     "metadata": {},
     "source": [
      "Analyser les mentions et les hashtags les plus populaires "
     ]
    },
    {
     "cell_type": "markdown",
     "metadata": {},
     "source": [
      "Python permet \u00e9galement de manipuler facilement des chaines de texte gr\u00e2ce aux expressions r\u00e9guli\u00e8res ***(voir Focus expression r\u00e9guli\u00e8re dans ce dossier)*** \n",
      "\n",
      "Nous pouvons extraire plusieurs informations int\u00e9ressantes comme : \n",
      "\n",
      "- Les mentions (pr\u00e9c\u00e9d\u00e9s d'un '@')\n",
      "- Les hastags (pr\u00e9c\u00e9d\u00e9s d'un '#') "
     ]
    },
    {
     "cell_type": "markdown",
     "metadata": {},
     "source": [
      "Si nous souhaitons extraire les mentions de la colonne texte, nous pouvons \u00e9crire : "
     ]
    },
    {
     "cell_type": "code",
     "collapsed": false,
     "input": [
      "elysee_df['text'].head()"
     ],
     "language": "python",
     "metadata": {},
     "outputs": []
    },
    {
     "cell_type": "code",
     "collapsed": false,
     "input": [
      "pattern_mentions = \"@[A-Z0-9._%+-]+\"\n",
      "\n",
      "elysee_df['mentions'] = elysee_df['text'].str.findall(pattern_mentions, re.IGNORECASE).str[0]"
     ],
     "language": "python",
     "metadata": {},
     "outputs": []
    },
    {
     "cell_type": "markdown",
     "metadata": {},
     "source": [
      "On peut d\u00e9s lors compter le nombre de mentions en groupant par la colonne mentions :"
     ]
    },
    {
     "cell_type": "code",
     "collapsed": false,
     "input": [
      "elysee_df.groupby('mentions').size().order(ascending=False)[0:10]"
     ],
     "language": "python",
     "metadata": {},
     "outputs": []
    },
    {
     "cell_type": "heading",
     "level": 3,
     "metadata": {},
     "source": [
      "A vous :"
     ]
    },
    {
     "cell_type": "markdown",
     "metadata": {},
     "source": [
      "   - Quelles sont les mentions les plus populaires ? \n",
      "   - Quels sont les hashtags les plus populaires ? \n",
      "   - Quels sont les hashtages les plus populaires, mentionnant @gouvernementFR ? \n",
      "   - Quelles sont les mentions les plus populaires, comportant le hashtag #DDay70 ?  "
     ]
    }
   ],
   "metadata": {}
  }
 ]
}