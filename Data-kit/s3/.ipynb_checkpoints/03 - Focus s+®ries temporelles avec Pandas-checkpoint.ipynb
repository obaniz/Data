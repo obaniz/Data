{
 "metadata": {
  "kernelspec": {
   "display_name": "Python 2",
   "language": "python",
   "name": "python2"
  },
  "language_info": {
   "codemirror_mode": {
    "name": "ipython",
    "version": 2
   },
   "file_extension": ".py",
   "mimetype": "text/x-python",
   "name": "python",
   "nbconvert_exporter": "python",
   "pygments_lexer": "ipython2",
   "version": "2.7.9"
  },
  "name": "",
  "signature": "sha256:bdf6875bba94cc48df3064deda46b52995fbbc6471736c0d1a342c27a57b35ea"
 },
 "nbformat": 3,
 "nbformat_minor": 0,
 "worksheets": [
  {
   "cells": [
    {
     "cell_type": "heading",
     "level": 1,
     "metadata": {},
     "source": [
      "S\u00e9ries temporelles avec Pandas"
     ]
    },
    {
     "cell_type": "markdown",
     "metadata": {},
     "source": [
      "L'analyse temporelle est une partie essentielle de l'analyse de donn\u00e9es. \n",
      "\n",
      "Dans cette partie vous verrez : \n",
      "\n",
      "- L'objet Datetime\n",
      "- Quelles sont les fonctions de traitement de dates sous Pandas\n",
      "- Les fonctions d'aggr\u00e9gation temporelles\n",
      "\n",
      "Pandas dispose de plusieurs m\u00e9thode pour g\u00e9rer et manipuler des donn\u00e9es temporelles :"
     ]
    },
    {
     "cell_type": "heading",
     "level": 2,
     "metadata": {},
     "source": [
      "Datetime (Python)"
     ]
    },
    {
     "cell_type": "markdown",
     "metadata": {},
     "source": [
      "Le module **Datetime** en Python permet de r\u00e9aliser plusieurs op\u00e9rations avec des dates : "
     ]
    },
    {
     "cell_type": "code",
     "collapsed": false,
     "input": [
      "from datetime import datetime\n",
      "\n",
      "now = datetime.now()"
     ],
     "language": "python",
     "metadata": {},
     "outputs": []
    },
    {
     "cell_type": "markdown",
     "metadata": {},
     "source": [
      "l'objet **Datetime** stocke la date et l'heure jusqu'\u00e0 la microsecond, jugez plut\u00f4t : "
     ]
    },
    {
     "cell_type": "code",
     "collapsed": false,
     "input": [
      "now "
     ],
     "language": "python",
     "metadata": {},
     "outputs": []
    },
    {
     "cell_type": "markdown",
     "metadata": {},
     "source": [
      "Nous pouvons acc\u00e9der \u00e0 diff\u00e9rentes \u00e0 l'ann\u00e9e, le mois, le jour etc.. "
     ]
    },
    {
     "cell_type": "code",
     "collapsed": false,
     "input": [
      "print now.year\n",
      "print now.month\n",
      "print now.day"
     ],
     "language": "python",
     "metadata": {},
     "outputs": []
    },
    {
     "cell_type": "heading",
     "level": 2,
     "metadata": {},
     "source": [
      "String --> datetime"
     ]
    },
    {
     "cell_type": "markdown",
     "metadata": {},
     "source": [
      "Bien entendu, les donn\u00e9es temporelles sont rarement stock\u00e9es au format dates. Elles sont souvent stock\u00e9es et pars\u00e9es sous forme de texte\n",
      "\n",
      "La m\u00e9thode **strptime** du module **datetime** de Python permet de transformer un String en datetime en y int\u00e9grant un **format de date**"
     ]
    },
    {
     "cell_type": "code",
     "collapsed": false,
     "input": [
      "chaine = '2013-02-13'"
     ],
     "language": "python",
     "metadata": {},
     "outputs": []
    },
    {
     "cell_type": "code",
     "collapsed": false,
     "input": [
      "datetime.strptime(chaine,'%Y-%m-%d')"
     ],
     "language": "python",
     "metadata": {},
     "outputs": []
    },
    {
     "cell_type": "markdown",
     "metadata": {},
     "source": [
      "On peut retrouver l'int\u00e9gralit\u00e9 des formats de date ici - https://docs.python.org/2/library/datetime.html#strftime-and-strptime-behavior"
     ]
    },
    {
     "cell_type": "code",
     "collapsed": false,
     "input": [
      "import pandas as pd\n",
      "import numpy as np"
     ],
     "language": "python",
     "metadata": {},
     "outputs": []
    },
    {
     "cell_type": "markdown",
     "metadata": {},
     "source": [
      "Pandas permet de parse facilement les donn\u00e9es d'une S\u00e9rie gr\u00e2ce \u00e0 la m\u00e9thode **to_datetime** :"
     ]
    },
    {
     "cell_type": "code",
     "collapsed": false,
     "input": [
      "datestring = ['2013-04-03', '2013-04-04', '2013-04-05', '2013-04-06']"
     ],
     "language": "python",
     "metadata": {},
     "outputs": []
    },
    {
     "cell_type": "code",
     "collapsed": false,
     "input": [
      "pd.to_datetime(datestring)"
     ],
     "language": "python",
     "metadata": {},
     "outputs": []
    },
    {
     "cell_type": "markdown",
     "metadata": {},
     "source": [
      "Remarquons que la **liste** datestring a \u00e9t\u00e9 transform\u00e9e en objet Pandas **tseries.index.DatetimeIndex** \n",
      "\n",
      "Plusieurs options (qui d\u00e9passe ce focus) sont \u00e9galement \u00e0 noter : la longueur de la s\u00e9rie, la fr\u00e9quence, la timezone etc.."
     ]
    },
    {
     "cell_type": "heading",
     "level": 2,
     "metadata": {},
     "source": [
      "Time et DataFrame "
     ]
    },
    {
     "cell_type": "markdown",
     "metadata": {},
     "source": [
      "Lorsque vous disposez d'un set de donn\u00e9es contenant des donn\u00e9es temporelles, il advient de bien indexer en utilisant l'objet  **DatetimeIndex**. \n",
      "\n",
      "Prenons par exemple une nouvelle liste de dates (format chaine) : "
     ]
    },
    {
     "cell_type": "code",
     "collapsed": false,
     "input": [
      "datestr = ['2013-04-03', '2013-04-04', '2013-04-05', '2013-05-06','2014-06-07','2014-07-08']"
     ],
     "language": "python",
     "metadata": {},
     "outputs": []
    },
    {
     "cell_type": "markdown",
     "metadata": {},
     "source": [
      "Nous transformons cette liste de String en un objet DatetimeIndex en utilisant la m\u00e9thode **to_datetime** :"
     ]
    },
    {
     "cell_type": "code",
     "collapsed": false,
     "input": [
      "dates = pd.to_datetime(datestr)"
     ],
     "language": "python",
     "metadata": {},
     "outputs": []
    },
    {
     "cell_type": "markdown",
     "metadata": {},
     "source": [
      "Si nous souhaitons maintenant cr\u00e9er un DataFrame, nous pouvons sp\u00e9cifier, au moment de la cr\u00e9ation, l'index \u00e0 utiliser gr\u00e2ce au param\u00e8tre **index** :"
     ]
    },
    {
     "cell_type": "code",
     "collapsed": false,
     "input": [
      "df = pd.DataFrame(np.random.randn(6,2),\n",
      "                  index = dates,\n",
      "                  columns = ['col1','col2'])"
     ],
     "language": "python",
     "metadata": {},
     "outputs": []
    },
    {
     "cell_type": "code",
     "collapsed": false,
     "input": [
      "df"
     ],
     "language": "python",
     "metadata": {},
     "outputs": []
    },
    {
     "cell_type": "markdown",
     "metadata": {},
     "source": [
      "La plupart des DataFrame que vous utiliserez seront lus au sein de fichier ext\u00e9rieurs (e.g : csv) \n",
      "\n",
      "La m\u00e9thode **read_csv** de Pandas a diff\u00e9rentes options : \n",
      "\n",
      "- **index_col** permet de pr\u00e9ciser la colonne \u00e0 prendre comme Index\n",
      "- **parse_dates** est un bool\u00e9en permettant de parser les chaines en dates automatiquement\n",
      "\n",
      "Prenons l'exemple suivant : "
     ]
    },
    {
     "cell_type": "code",
     "collapsed": false,
     "input": [
      "stock = pd.read_csv(\"data/stock_px.csv\")"
     ],
     "language": "python",
     "metadata": {},
     "outputs": []
    },
    {
     "cell_type": "markdown",
     "metadata": {},
     "source": [
      "L'index de stock dans ce cas l\u00e0 est une liste d'Integer :"
     ]
    },
    {
     "cell_type": "code",
     "collapsed": false,
     "input": [
      "stock.head()"
     ],
     "language": "python",
     "metadata": {},
     "outputs": []
    },
    {
     "cell_type": "markdown",
     "metadata": {},
     "source": [
      "En sp\u00e9cifiant l'index \u00e0 utiliser et en activant l'option de parsing de dates, nous obtenons : "
     ]
    },
    {
     "cell_type": "code",
     "collapsed": false,
     "input": [
      "stock = pd.read_csv(\"data/stock_px.csv\", parse_dates=True, index_col=0)"
     ],
     "language": "python",
     "metadata": {},
     "outputs": []
    },
    {
     "cell_type": "code",
     "collapsed": false,
     "input": [
      "stock.index"
     ],
     "language": "python",
     "metadata": {},
     "outputs": []
    },
    {
     "cell_type": "markdown",
     "metadata": {},
     "source": [
      "Dans le cas o\u00f9 il n'est pas possible de fixer un Index \u00e0 la lecture d'un fichier, nous pourrons utiliser la m\u00e9thode **set_index** pour fixer l'index d'un DataFrame apr\u00e8s sa cr\u00e9ation"
     ]
    },
    {
     "cell_type": "markdown",
     "metadata": {},
     "source": [
      "Lorsqu'un DataFrame a \u00e9t\u00e9 correctement cr\u00e9\u00e9, Pandas offre de nombreuses m\u00e9thodes pour s\u00e9lectionner ou filtrer des donn\u00e9es. \n",
      "\n",
      "Nous pouvons s\u00e9lectionner par exemple uniquement les donn\u00e9es de stock de l'ann\u00e9e 2005 avec la cl\u00e9 '2005' :"
     ]
    },
    {
     "cell_type": "code",
     "collapsed": false,
     "input": [
      "stock['2005'].head()"
     ],
     "language": "python",
     "metadata": {},
     "outputs": []
    },
    {
     "cell_type": "markdown",
     "metadata": {},
     "source": [
      "On peut de la m\u00eame mani\u00e8re s\u00e9l\u00e9ctionner un mois, ou une p\u00e9riode :"
     ]
    },
    {
     "cell_type": "code",
     "collapsed": false,
     "input": [
      "stock['2005-03'].head()"
     ],
     "language": "python",
     "metadata": {},
     "outputs": []
    },
    {
     "cell_type": "code",
     "collapsed": false,
     "input": [
      "stock['2005-03':'2005-04'].head()"
     ],
     "language": "python",
     "metadata": {},
     "outputs": []
    },
    {
     "cell_type": "heading",
     "level": 2,
     "metadata": {},
     "source": [
      "Resampling"
     ]
    },
    {
     "cell_type": "markdown",
     "metadata": {},
     "source": [
      "Le **resampling** est l'art d'aggr\u00e9ger ou de d\u00e9sagr\u00e9ger des donn\u00e9es temporelles. \n",
      "\n",
      "On peut vouloir par exemple aggr\u00e9ger les donn\u00e9es du DataFrame stock en calculat la moyenne par ann\u00e9e. \n",
      "\n",
      "On utilisera pour cela la m\u00e9thode **resample** en sp\u00e9cifiant  **la fr\u00e9quence** et la **fonction d'aggr\u00e9gation** via le param\u00e8tre **how**. \n",
      "\n",
      "Un d\u00e9tail des valeurs possibles pour chacun de ces param\u00e8tres est disponible ici - http://pandas.pydata.org/pandas-docs/dev/timeseries.html#offset-aliases"
     ]
    },
    {
     "cell_type": "code",
     "collapsed": false,
     "input": [
      "stock.resample('AS', how='mean')"
     ],
     "language": "python",
     "metadata": {},
     "outputs": []
    },
    {
     "cell_type": "heading",
     "level": 2,
     "metadata": {},
     "source": [
      "Plotting"
     ]
    },
    {
     "cell_type": "markdown",
     "metadata": {},
     "source": [
      "La visualisation de donn\u00e9es appliqu\u00e9e \u00e0 des time series permet d'appr\u00e9cier rapidement une tendance. \n",
      "\n",
      "Pandas permet de cr\u00e9er rapidement une visualisation avec la m\u00e9thode **plot**"
     ]
    },
    {
     "cell_type": "code",
     "collapsed": false,
     "input": [
      "# permet d'afficher les graphes au sein de la page\n",
      "\n",
      "import matplotlib.pyplot as plt\n",
      "%matplotlib inline"
     ],
     "language": "python",
     "metadata": {},
     "outputs": []
    },
    {
     "cell_type": "code",
     "collapsed": false,
     "input": [
      "stock.plot()"
     ],
     "language": "python",
     "metadata": {},
     "outputs": []
    },
    {
     "cell_type": "code",
     "collapsed": false,
     "input": [
      "stock.resample('M', how='mean').plot()"
     ],
     "language": "python",
     "metadata": {},
     "outputs": []
    },
    {
     "cell_type": "code",
     "collapsed": false,
     "input": [],
     "language": "python",
     "metadata": {},
     "outputs": []
    }
   ],
   "metadata": {}
  }
 ]
}