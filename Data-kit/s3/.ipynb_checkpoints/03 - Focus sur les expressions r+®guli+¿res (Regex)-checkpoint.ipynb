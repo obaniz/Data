{
 "metadata": {
  "name": "",
  "signature": "sha256:9dac1e8d463f76da400998d6c854e07389dd764bbd36bbbac47cfcacc77be2f0"
 },
 "nbformat": 3,
 "nbformat_minor": 0,
 "worksheets": [
  {
   "cells": [
    {
     "cell_type": "heading",
     "level": 1,
     "metadata": {},
     "source": [
      "Les expressions r\u00e9guli\u00e8res"
     ]
    },
    {
     "cell_type": "heading",
     "level": 2,
     "metadata": {},
     "source": [
      "Introduction"
     ]
    },
    {
     "cell_type": "markdown",
     "metadata": {},
     "source": [
      "Ce focus va vous permettre de toucher du doigt la notion d'expressions r\u00e9guli\u00e8res, cependant il serait trop long de tout voir en d\u00e9tail. <br>\n",
      "\n",
      "Pour ceux qui veulent en savoir plus : [Learn Regex The Hard Way](http://regex.learncodethehardway.org/book/)"
     ]
    },
    {
     "cell_type": "markdown",
     "metadata": {},
     "source": [
      "Les expressions r\u00e9guli\u00e8res sont des patterns que l'on cr\u00e9e afin de soit : <br>\n",
      "- selectionner l'information <br>\n",
      "- diviser l'information <br>\n",
      "- effectuer une validation <br>"
     ]
    },
    {
     "cell_type": "markdown",
     "metadata": {},
     "source": [
      "Afin de tester et de cr\u00e9er son pattern, il est fortement conseiller d'utiliser un testeur d'expressions r\u00e9guli\u00e8res tel que [RegexR](http://www.regexr.com/)"
     ]
    },
    {
     "cell_type": "heading",
     "level": 2,
     "metadata": {},
     "source": [
      "Regex avec python et exemple"
     ]
    },
    {
     "cell_type": "markdown",
     "metadata": {},
     "source": [
      "Afin de pouvoir utiliser les expressions reguli\u00e8res il faut importer le module ```re``` "
     ]
    },
    {
     "cell_type": "code",
     "collapsed": false,
     "input": [
      "import pandas as pd\n",
      "import re"
     ],
     "language": "python",
     "metadata": {},
     "outputs": []
    },
    {
     "cell_type": "markdown",
     "metadata": {},
     "source": [
      "Vous avez un DataFrame compos\u00e9 de noms et d'adresses emails, vous souhaiteriez n'avoir que les adresse emails."
     ]
    },
    {
     "cell_type": "code",
     "collapsed": false,
     "input": [
      "df = pd.DataFrame(['Martin Daniel',\n",
      "                   'martin@gmail.com', \n",
      "                   'Vincent Simon', \n",
      "                   'vincentsimon@laposte.net', \n",
      "                   'Bob', \n",
      "                   'bobby@zimmerman.com'],columns=['noms&mails'])\n",
      "df"
     ],
     "language": "python",
     "metadata": {},
     "outputs": []
    },
    {
     "cell_type": "code",
     "collapsed": false,
     "input": [
      "# Ici nous allons d\u00e9finir le pattern de l'expression r\u00e9guli\u00e8re que nous allons utiliser.\n",
      "pattern = r'[a-z]+@[a-z]+\\.[a-z]{2,4}'"
     ],
     "language": "python",
     "metadata": {},
     "outputs": []
    },
    {
     "cell_type": "code",
     "collapsed": false,
     "input": [
      "# re.IGNORECASE permet d'ignorer la casse. La fonction .match() permet de renvoyer un bool\u00e9en True or False.\n",
      "resultat = df['noms&mails'].str.match(pattern, re.IGNORECASE)\n",
      "print resultat"
     ],
     "language": "python",
     "metadata": {},
     "outputs": []
    },
    {
     "cell_type": "heading",
     "level": 2,
     "metadata": {},
     "source": [
      "Construire une expression r\u00e9guli\u00e8re"
     ]
    },
    {
     "cell_type": "markdown",
     "metadata": {},
     "source": [
      "Construisons un DataFrame compos\u00e9 de differents types de donn\u00e9es et regardons les diff\u00e9rents r\u00e9sultats :"
     ]
    },
    {
     "cell_type": "code",
     "collapsed": false,
     "input": [
      "df2 = pd.DataFrame(['Martin Daniel',\n",
      "                   'martin@gmail.com', \n",
      "                   '1234', \n",
      "                   '0637687898', \n",
      "                   'Bob'],columns=['donn\u00e9es'])\n",
      "df2"
     ],
     "language": "python",
     "metadata": {},
     "outputs": []
    },
    {
     "cell_type": "heading",
     "level": 3,
     "metadata": {},
     "source": [
      "1er pattern : (\\w)"
     ]
    },
    {
     "cell_type": "markdown",
     "metadata": {},
     "source": [
      "Notre pattern1 s\u00e9l\u00e9ctionne tous les caract\u00e8res sauf les caract\u00e8res sp\u00e9ciaux."
     ]
    },
    {
     "cell_type": "code",
     "collapsed": false,
     "input": [
      "pattern1 = r'\\w'\n",
      "\n",
      "resultat1 = df2['donn\u00e9es'].str.findall(pattern1, re.IGNORECASE)\n",
      "print resultat1"
     ],
     "language": "python",
     "metadata": {},
     "outputs": []
    },
    {
     "cell_type": "heading",
     "level": 3,
     "metadata": {},
     "source": [
      "2eme pattern : \\d"
     ]
    },
    {
     "cell_type": "markdown",
     "metadata": {},
     "source": [
      "Notre pattern2 n'a pris en compte que les donn\u00e9es num\u00e9riques."
     ]
    },
    {
     "cell_type": "code",
     "collapsed": false,
     "input": [
      "pattern2 = r'\\d'\n",
      "\n",
      "resultat2 = df2['donn\u00e9es'].str.findall(pattern2, re.IGNORECASE)\n",
      "print resultat2"
     ],
     "language": "python",
     "metadata": {},
     "outputs": []
    },
    {
     "cell_type": "heading",
     "level": 3,
     "metadata": {},
     "source": [
      "3eme pattern : \\D"
     ]
    },
    {
     "cell_type": "markdown",
     "metadata": {},
     "source": [
      "Notre pattern3 a pris compte toutes les donn\u00e9es **n'\u00e9tant pas** num\u00e9riques"
     ]
    },
    {
     "cell_type": "code",
     "collapsed": false,
     "input": [
      "pattern3 = r'\\D'\n",
      "\n",
      "resultat3 = df2['donn\u00e9es'].str.findall(pattern3, re.IGNORECASE)\n",
      "print resultat3"
     ],
     "language": "python",
     "metadata": {},
     "outputs": []
    },
    {
     "cell_type": "heading",
     "level": 3,
     "metadata": {},
     "source": [
      "4eme pattern : 06\\d{8}"
     ]
    },
    {
     "cell_type": "markdown",
     "metadata": {},
     "source": [
      "Notre pattern4 a pris en compte le seul num\u00e9ro de t\u00e9l\u00e9phone portable."
     ]
    },
    {
     "cell_type": "code",
     "collapsed": false,
     "input": [
      "pattern4 = r'06\\d{8}'\n",
      "\n",
      "resultat4 = df2['donn\u00e9es'].str.findall(pattern4, re.IGNORECASE)\n",
      "print resultat4"
     ],
     "language": "python",
     "metadata": {},
     "outputs": []
    },
    {
     "cell_type": "heading",
     "level": 2,
     "metadata": {},
     "source": [
      "Les fonctions"
     ]
    },
    {
     "cell_type": "markdown",
     "metadata": {},
     "source": [
      "Jusqu'ici nous avons utiliser la fonction .findall() qui renvoie la chaine correspondante. <br>\n",
      "Il y a plusieurs autres fonctions tr\u00e8s utiles :"
     ]
    },
    {
     "cell_type": "code",
     "collapsed": false,
     "input": [
      "# Reprenons notre DataFrame initial en ajoutant une deuxi\u00e8me adresse \u00e0 Bobby :\n",
      "df3 = pd.DataFrame(['Martin Daniel',\n",
      "                   'martin@gmail.com', \n",
      "                   'Vincent Simon', \n",
      "                   'vincentsimon@laposte.net', \n",
      "                   'Bob', \n",
      "                   'bobby@zimmerman.com, bobby@zimm.fr'],\n",
      "                   columns=['noms&mails'])\n",
      "df3"
     ],
     "language": "python",
     "metadata": {},
     "outputs": []
    },
    {
     "cell_type": "code",
     "collapsed": false,
     "input": [
      "pattern = r'[a-z]+@[a-z]+\\.[a-z]{2,4}'"
     ],
     "language": "python",
     "metadata": {},
     "outputs": []
    },
    {
     "cell_type": "heading",
     "level": 3,
     "metadata": {},
     "source": [
      ".count()"
     ]
    },
    {
     "cell_type": "markdown",
     "metadata": {},
     "source": [
      "La m\u00e9thode .count() compte le nombre d'occurences du pattern."
     ]
    },
    {
     "cell_type": "code",
     "collapsed": false,
     "input": [
      "resultatcount = df3['noms&mails'].str.count(pattern, re.IGNORECASE)\n",
      "print resultatcount"
     ],
     "language": "python",
     "metadata": {},
     "outputs": []
    },
    {
     "cell_type": "markdown",
     "metadata": {},
     "source": [
      "La m\u00e9thode .findall() permet d'afficher les r\u00e9sultats li\u00e9s au pattern. <br>"
     ]
    },
    {
     "cell_type": "code",
     "collapsed": false,
     "input": [
      "resultatfindall = df3['noms&mails'].str.findall(pattern, re.IGNORECASE)\n",
      "print resultatfindall"
     ],
     "language": "python",
     "metadata": {},
     "outputs": []
    },
    {
     "cell_type": "code",
     "collapsed": false,
     "input": [
      "# Pour afficher ces r\u00e9sultat de fa\u00e7on plus propre, \n",
      "# nous pouvons utliser la methode .str[0] pour avoir la premi\u00e8re colonne des r\u00e9sultats\n",
      "resultatfindall.str[0]"
     ],
     "language": "python",
     "metadata": {},
     "outputs": []
    },
    {
     "cell_type": "code",
     "collapsed": false,
     "input": [
      "# Pour avoir la deuxi\u00e8me colonne nous jouons sur l'index\n",
      "resultatfindall.str[1]"
     ],
     "language": "python",
     "metadata": {},
     "outputs": []
    }
   ],
   "metadata": {}
  }
 ]
}