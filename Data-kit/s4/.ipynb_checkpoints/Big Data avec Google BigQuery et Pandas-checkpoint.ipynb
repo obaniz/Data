{
 "metadata": {
  "name": "",
  "signature": "sha256:4e8aa3b6be8264b7c5824cf374cde2ee6274bcc138dd7eb98d79125da7d60081"
 },
 "nbformat": 3,
 "nbformat_minor": 0,
 "worksheets": [
  {
   "cells": [
    {
     "cell_type": "heading",
     "level": 1,
     "metadata": {},
     "source": [
      "Analyse Big Data avec Google BigQuery et Pandas"
     ]
    },
    {
     "cell_type": "markdown",
     "metadata": {},
     "source": [
      "Lorsqu'un set de donn\u00e9es devient trop important pour un traitement sur votre machine (g\u00e9n\u00e9ralement au dessus de quelques Gigaoctets), il vous faut d\u00e9porter vos calculs dans des infrastructures Cloud. \n",
      "\n",
      "La plateforme BigQuery s'appuie sur l'infrastructure de Google. Elle vous permet de stocker et de requ\u00eater des sets de donn\u00e9es sans limite de taille. \n",
      "\n",
      "Dans cette partie, vous allez voir comment Pandas et BigQuery s'int\u00e8grent pour traiter, dans le cloud, des bases de donn\u00e9es volumineuses. "
     ]
    },
    {
     "cell_type": "heading",
     "level": 1,
     "metadata": {},
     "source": [
      "BigQuery"
     ]
    },
    {
     "cell_type": "markdown",
     "metadata": {},
     "source": [
      "Rendez vous sur l'interface - https://bigquery.cloud.google.com/ et cr\u00e9ez le projet datawagon. \n",
      "\n",
      "Vous devrez renseigner vos coordonn\u00e9es bancaires pour pouvoir activer votre compte. Vous b\u00e9n\u00e9ficiez par d\u00e9faut d'une premi\u00e8re p\u00e9riode de test. Vous pouvez consulter les tarifs sur cette page - https://cloud.google.com/bigquery/pricing\n",
      "\n",
      "Vous pouvez enfin modifier vos projets, leurs droits d'acc\u00e9s ainsi que vos informations de paiement au sein de votre console - https://console.developers.google.com/"
     ]
    },
    {
     "cell_type": "markdown",
     "metadata": {},
     "source": [
      "Les projets auxquels vous avez acc\u00e8s sont affich\u00e9s sur la gauche. Au sein de chaque projet vous retrouvez un ou plusieurs set de donn\u00e9es. "
     ]
    },
    {
     "cell_type": "markdown",
     "metadata": {},
     "source": [
      "<img src='files/images/projets-bq.png'>"
     ]
    },
    {
     "cell_type": "markdown",
     "metadata": {},
     "source": [
      "BigQuery offre \u00e9galement une interface de requ\u00eatage type SQL accessible depuis votre navigateur web : "
     ]
    },
    {
     "cell_type": "markdown",
     "metadata": {},
     "source": [
      "<img src='files/images/queries.png'>"
     ]
    },
    {
     "cell_type": "markdown",
     "metadata": {},
     "source": [
      "Il vous est enfin possible d'importer vos propres donn\u00e9es, en utilisant l'utilitaire d'import de donn\u00e9es en ligne, ou en passant par la plateforme Google Cloud Storage. "
     ]
    },
    {
     "cell_type": "markdown",
     "metadata": {},
     "source": [
      "Dans cet exercice, nous allons utiliser le projet `bigquery-samples:airline_ontime_data.flights`.\n",
      "\n",
      "Ce dataset est public et liste les informations de vols d'avion aux Etats Unis entre 2002 et 2012. Il contient 70+ millions de lignes et p\u00e8se environ 8Go. \n",
      "\n",
      "Vous  pouvons compter le nombre de lignes de ce dataset en ex\u00e9cutant la requ\u00eate suivante : "
     ]
    },
    {
     "cell_type": "code",
     "collapsed": false,
     "input": [
      "SELECT COUNT(*) FROM [bigquery-samples:airline_ontime_data.flights]"
     ],
     "language": "python",
     "metadata": {},
     "outputs": []
    },
    {
     "cell_type": "markdown",
     "metadata": {},
     "source": [
      "Nous allons copier cette table, au sein de notre projet en utilisant l'option **copy table** accessible depuis le menu \u00e0 droite de la table flights :"
     ]
    },
    {
     "cell_type": "markdown",
     "metadata": {},
     "source": [
      "<img src='files/images/copy-table.png'>"
     ]
    },
    {
     "cell_type": "heading",
     "level": 2,
     "metadata": {},
     "source": [
      "Let's do it ! Analysons 10 ans de vols aux Etats Unis"
     ]
    },
    {
     "cell_type": "code",
     "collapsed": false,
     "input": [
      "import pandas as pd\n",
      "import matplotlib.pyplot as plt\n",
      "%matplotlib inline\n",
      "import numpy as np"
     ],
     "language": "python",
     "metadata": {},
     "outputs": []
    },
    {
     "cell_type": "code",
     "collapsed": false,
     "input": [
      "pd.options.display.mpl_style = 'default'"
     ],
     "language": "python",
     "metadata": {},
     "outputs": []
    },
    {
     "cell_type": "heading",
     "level": 3,
     "metadata": {},
     "source": [
      "Evolution temporelle"
     ]
    },
    {
     "cell_type": "markdown",
     "metadata": {},
     "source": [
      "Pandas et BigQuery s'int\u00e8grent facilement gr\u00e2ce \u00e0 la m\u00e9thode **read_gbq**, encore en version exp\u00e9rimentale dans la version 0.16 de Pandas : "
     ]
    },
    {
     "cell_type": "code",
     "collapsed": false,
     "input": [
      "query = 'SELECT date,COUNT(*) as count FROM [vols.flights] GROUP BY date'\n",
      "\n",
      "dates = pd.read_gbq(query,project_id='data-kit')"
     ],
     "language": "python",
     "metadata": {},
     "outputs": []
    },
    {
     "cell_type": "markdown",
     "metadata": {},
     "source": [
      "Les dates \u00e9tant stock\u00e9es sous forme de String au sein de BigQuery, nous cr\u00e9ons un index en utilisant la m\u00e9thode **pd.to_datetime()** :"
     ]
    },
    {
     "cell_type": "code",
     "collapsed": false,
     "input": [
      "dates.index = pd.to_datetime(dates['date'])"
     ],
     "language": "python",
     "metadata": {},
     "outputs": []
    },
    {
     "cell_type": "markdown",
     "metadata": {},
     "source": [
      "Nous pouvons ensuite apliquer notre m\u00e9thode resample pour obtenir une vue du nombre de vols par mois :"
     ]
    },
    {
     "cell_type": "code",
     "collapsed": false,
     "input": [
      "dates.resample('M',how='sum').plot()"
     ],
     "language": "python",
     "metadata": {},
     "outputs": []
    },
    {
     "cell_type": "markdown",
     "metadata": {},
     "source": [
      "En r\u00e9alisant le m\u00eame graphe avec une vue par aire, nous nous appercevons qu'il y a un trou de donn\u00e9es en octobre 2012 : "
     ]
    },
    {
     "cell_type": "code",
     "collapsed": false,
     "input": [
      "dates.resample('M',how='sum').plot(ylim=[0,650000],kind='area')"
     ],
     "language": "python",
     "metadata": {},
     "outputs": []
    },
    {
     "cell_type": "markdown",
     "metadata": {},
     "source": [
      "Nous remarquons \u00e9galement la baisse tendancielles des vols \u00e0 partir de 2008, coincidant avec les d\u00e9buts de la crise \u00e9conomique."
     ]
    },
    {
     "cell_type": "heading",
     "level": 2,
     "metadata": {},
     "source": [
      "Cartographie des a\u00e9roports US"
     ]
    },
    {
     "cell_type": "code",
     "collapsed": false,
     "input": [
      "import folium\n",
      "from IPython.display import HTML\n",
      "\n",
      "def inline_map(map):\n",
      "    map._build_map()\n",
      "    return HTML('<iframe srcdoc=\"{srcdoc}\" style=\"width: 100%; height: 510px; border: none\"></iframe>'.format(srcdoc=map.HTML.replace('\"', '&quot;')))"
     ],
     "language": "python",
     "metadata": {},
     "outputs": []
    },
    {
     "cell_type": "markdown",
     "metadata": {},
     "source": [
      "En utilisant la librairie Folium que nous avons vu pr\u00e9c\u00e9demment, nous pouvons cartographier le volume des principaux a\u00e9roports am\u00e9ricains. "
     ]
    },
    {
     "cell_type": "code",
     "collapsed": false,
     "input": [
      "query_airport = 'SELECT departure_airport,departure_lat,departure_lon,COUNT(*) as count FROM [vols.flights] GROUP BY departure_airport,departure_lat,departure_lon'\n",
      "\n",
      "airport = pd.read_gbq(query_airport,project_id='data-kit')"
     ],
     "language": "python",
     "metadata": {},
     "outputs": []
    },
    {
     "cell_type": "code",
     "collapsed": false,
     "input": [
      "airport.head()"
     ],
     "language": "python",
     "metadata": {},
     "outputs": []
    },
    {
     "cell_type": "code",
     "collapsed": false,
     "input": [
      "map_airport = folium.Map(location=[35,-80], zoom_start=3)"
     ],
     "language": "python",
     "metadata": {},
     "outputs": []
    },
    {
     "cell_type": "markdown",
     "metadata": {},
     "source": [
      "Afin de repr\u00e9senter les a\u00e9roports sous la forme de bulles dont la taille est fonction du nombre de vols \u00e0 leur d\u00e9part, nous allons appliquer une mise \u00e0 l'\u00e9chelle. "
     ]
    },
    {
     "cell_type": "code",
     "collapsed": false,
     "input": [
      "airport['size'] = (airport['count'] / np.max(airport['count'])) * 200000"
     ],
     "language": "python",
     "metadata": {},
     "outputs": []
    },
    {
     "cell_type": "code",
     "collapsed": false,
     "input": [
      "airport.sort('count',ascending=False).head()"
     ],
     "language": "python",
     "metadata": {},
     "outputs": []
    },
    {
     "cell_type": "code",
     "collapsed": false,
     "input": [
      "for x in airport.values:\n",
      "    location = []\n",
      "    location.append(x[1])\n",
      "    location.append(x[2])\n",
      "    map_airport.circle_marker(location,radius=x[4],fill_color='red',line_color='none',popup=x[0])"
     ],
     "language": "python",
     "metadata": {},
     "outputs": []
    },
    {
     "cell_type": "code",
     "collapsed": false,
     "input": [
      "inline_map(map_airport)"
     ],
     "language": "python",
     "metadata": {},
     "outputs": []
    },
    {
     "cell_type": "heading",
     "level": 2,
     "metadata": {},
     "source": [
      "Analyse du retard moyen"
     ]
    },
    {
     "cell_type": "markdown",
     "metadata": {},
     "source": [
      "Nous pouvons analyser le retard moyen des vols en prenant par exemple le retard \u00e0 par compagnie a\u00e9rienne "
     ]
    },
    {
     "cell_type": "markdown",
     "metadata": {},
     "source": [
      "Cette requ\u00eate peut s'\u00e9crire : "
     ]
    },
    {
     "cell_type": "code",
     "collapsed": false,
     "input": [
      "query_delay_airline = 'SELECT airline,COUNT(*) AS count,AVG(arrival_delay) AS retard FROM [vols.flights] GROUP BY airline'\n",
      "\n",
      "delay = pd.read_gbq(query_delay_airline,project_id='data-kit')"
     ],
     "language": "python",
     "metadata": {},
     "outputs": []
    },
    {
     "cell_type": "code",
     "collapsed": false,
     "input": [
      "ggplot(delay, aes(x='count', y='retard', label='airline')) +\\\n",
      "    geom_text()"
     ],
     "language": "python",
     "metadata": {},
     "outputs": []
    },
    {
     "cell_type": "markdown",
     "metadata": {},
     "source": [
      "Nous pouvons appliquer la m\u00eame m\u00e9thode par Etats, en prenant par exemple l'Etat d'arriv\u00e9e"
     ]
    },
    {
     "cell_type": "code",
     "collapsed": false,
     "input": [
      "query_delay = 'SELECT arrival_state,COUNT(*) AS count,AVG(arrival_delay) AS retard FROM [vols.flights] GROUP BY arrival_state'\n",
      "\n",
      "delay = pd.read_gbq(query_delay,project_id='data-kit')"
     ],
     "language": "python",
     "metadata": {},
     "outputs": []
    },
    {
     "cell_type": "code",
     "collapsed": false,
     "input": [
      "ggplot(delay, aes(x='count', y='retard', label='arrival_state')) +\\\n",
      "    geom_text()"
     ],
     "language": "python",
     "metadata": {},
     "outputs": []
    },
    {
     "cell_type": "markdown",
     "metadata": {},
     "source": [
      "On peut \u00e9galement analyser les routes pr\u00e9sentant le plus grand retard moyen.\n",
      "\n",
      "On peut r\u00e9aliser cela gr\u00e2ce \u00e0 la requ\u00eate : "
     ]
    },
    {
     "cell_type": "code",
     "collapsed": false,
     "input": [
      "query_delay_interstate = 'SELECT departure_state,arrival_state,COUNT(*) AS count,AVG(arrival_delay) AS retard FROM [vols.flights] GROUP BY departure_state,arrival_state'\n",
      "\n",
      "delay_interstate = pd.read_gbq(query_delay_interstate,project_id='data-kit')"
     ],
     "language": "python",
     "metadata": {},
     "outputs": []
    },
    {
     "cell_type": "markdown",
     "metadata": {},
     "source": [
      "Nous obtenons que nous pouvons faire pivoter gr\u00e2ce \u00e0 la m\u00e9thode **pivot**"
     ]
    },
    {
     "cell_type": "code",
     "collapsed": false,
     "input": [
      "delay_interstate2 = delay_interstate[delay_interstate['count'] > 10000]"
     ],
     "language": "python",
     "metadata": {},
     "outputs": []
    },
    {
     "cell_type": "code",
     "collapsed": false,
     "input": [
      "delay_interstate.count()"
     ],
     "language": "python",
     "metadata": {},
     "outputs": []
    },
    {
     "cell_type": "code",
     "collapsed": false,
     "input": [
      "pivot_airports = delay_interstate2.pivot('departure_state','arrival_state','retard').fillna(0)"
     ],
     "language": "python",
     "metadata": {},
     "outputs": []
    },
    {
     "cell_type": "markdown",
     "metadata": {},
     "source": [
      "On peut enfin repr\u00e9senter par une heatmap, les Etats de d\u00e9part et d'arriv\u00e9e, pr\u00e9sentant le plus fort retard. \n",
      "\n",
      "Le code d'un heatmap g\u00e9n\u00e9r\u00e9 avec Matplotlib est inspir\u00e9 de ce post - http://datasets.flowingdata.com/ppg2008.csv"
     ]
    },
    {
     "cell_type": "code",
     "collapsed": false,
     "input": [
      "# Plot it out\n",
      "fig, ax = plt.subplots()\n",
      "heatmap = ax.pcolor(pivot_airports, cmap=plt.cm.Blues, alpha=0.9)\n",
      "\n",
      "fig = plt.gcf()\n",
      "fig.set_size_inches(20,20)\n",
      "\n",
      "# turn off the frame\n",
      "ax.set_frame_on(False)\n",
      "\n",
      "# put the major ticks at the middle of each cell\n",
      "ax.set_yticks(np.arange(pivot_airports.shape[0])+0.5, minor=False)\n",
      "ax.set_xticks(np.arange(pivot_airports.shape[1])+0.5, minor=False)\n",
      "\n",
      "# want a more natural, table-like display\n",
      "ax.invert_yaxis()\n",
      "ax.xaxis.tick_top()\n",
      "\n",
      "ax.set_xticklabels(pivot_airports.index, minor=False) \n",
      "ax.set_yticklabels(pivot_airports.columns, minor=False)\n",
      "\n",
      "# rotate the \n",
      "plt.xticks(rotation=90)\n",
      "\n",
      "ax.grid(False)\n",
      "\n",
      "for t in ax.xaxis.get_major_ticks(): \n",
      "    t.tick1On = False \n",
      "    t.tick2On = False \n",
      "for t in ax.yaxis.get_major_ticks(): \n",
      "    t.tick1On = False \n",
      "    t.tick2On = False  "
     ],
     "language": "python",
     "metadata": {},
     "outputs": []
    }
   ],
   "metadata": {}
  }
 ]
}