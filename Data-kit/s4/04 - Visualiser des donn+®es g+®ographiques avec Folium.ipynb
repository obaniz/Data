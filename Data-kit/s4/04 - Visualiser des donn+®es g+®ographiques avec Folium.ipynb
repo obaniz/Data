{
 "metadata": {
  "name": "",
  "signature": "sha256:4e88d3a83d194b0296d8565ba9244e6c197def4aa24532d9af2e87571243e9ec"
 },
 "nbformat": 3,
 "nbformat_minor": 0,
 "worksheets": [
  {
   "cells": [
    {
     "cell_type": "heading",
     "level": 1,
     "metadata": {},
     "source": [
      "Visualiser des donn\u00e9es g\u00e9ographiques avec la librairie Folium"
     ]
    },
    {
     "cell_type": "markdown",
     "metadata": {},
     "source": [
      "Pouvoir repr\u00e9senter une carte est souvent une composante essentielle d'une analyse de donn\u00e9es. \n",
      "\n",
      "La librairie **Folium** permet de cr\u00e9er facilement des cartes interactives. Vous pouvez en lire plus sur la documentation officielle - https://www.pypi.python.org/pypi/folium\n",
      "\n",
      "Dans cette partie, vous verrez : \n",
      "\n",
      "- Comment int\u00e9grer une carte interactive au sein de l'environnement iPython\n",
      "- Comment tracer des points \u00e0 partir d\"un DataFrame \n",
      "- Comment tracer des zones, en utilisant des rep\u00e8res TopoJSON"
     ]
    },
    {
     "cell_type": "heading",
     "level": 2,
     "metadata": {},
     "source": [
      "Cr\u00e9er des cartes et des rep\u00e8res"
     ]
    },
    {
     "cell_type": "markdown",
     "metadata": {},
     "source": [
      "Installez la librairie folium depuis votre terminal gr\u00e2ce \u00e0 pip : "
     ]
    },
    {
     "cell_type": "code",
     "collapsed": false,
     "input": [
      "pip install folium"
     ],
     "language": "python",
     "metadata": {},
     "outputs": []
    },
    {
     "cell_type": "markdown",
     "metadata": {},
     "source": [
      "Nous importons tout d'abord la librairie folium ainsi que le module HTML de iPython :"
     ]
    },
    {
     "cell_type": "code",
     "collapsed": false,
     "input": [
      "import folium\n",
      "from IPython.display import HTML"
     ],
     "language": "python",
     "metadata": {},
     "outputs": []
    },
    {
     "cell_type": "markdown",
     "metadata": {},
     "source": [
      "Nous d\u00e9finissons ensuite une fonction **inline_map** qui renvoie un iframe HTML pouvant s'int\u00e9grer au sein de notre document iPython"
     ]
    },
    {
     "cell_type": "code",
     "collapsed": false,
     "input": [
      "def inline_map(map):\n",
      "    map._build_map()\n",
      "    return HTML('<iframe srcdoc=\"{srcdoc}\" style=\"width: 100%; height: 510px; border: none\"></iframe>'.format(srcdoc=map.HTML.replace('\"', '&quot;')))"
     ],
     "language": "python",
     "metadata": {},
     "outputs": []
    },
    {
     "cell_type": "markdown",
     "metadata": {},
     "source": [
      "Nous d\u00e9finissons les param\u00e8tres d'affichage de notre carte en pr\u00e9cisant son centre et le zoom \u00e0 utiliser :"
     ]
    },
    {
     "cell_type": "code",
     "collapsed": false,
     "input": [
      "map = folium.Map(location=[48.8655909,2.378983], zoom_start=6)"
     ],
     "language": "python",
     "metadata": {},
     "outputs": []
    },
    {
     "cell_type": "markdown",
     "metadata": {},
     "source": [
      "Nous pouvons enfin lancer appeler la fonction **inline_map** qui affiche notre carte. "
     ]
    },
    {
     "cell_type": "code",
     "collapsed": false,
     "input": [
      "inline_map(map)"
     ],
     "language": "python",
     "metadata": {},
     "outputs": []
    },
    {
     "cell_type": "markdown",
     "metadata": {},
     "source": [
      "Nous pouvons ajouter un rep\u00e8re gr\u00e2ce \u00e0 la m\u00e9thode de l'objet map, **simple_marker**. \n",
      "\n",
      "Nous pouvons \u00e9galement utiliser la m\u00e9thode **circle_marker** pour cr\u00e9er des cercles. "
     ]
    },
    {
     "cell_type": "code",
     "collapsed": false,
     "input": [
      "map.simple_marker([48.89157,2.24099])\n",
      "map.circle_marker([47.87967,1.90812])\n",
      "\n",
      "inline_map(map)"
     ],
     "language": "python",
     "metadata": {},
     "outputs": []
    },
    {
     "cell_type": "markdown",
     "metadata": {},
     "source": [
      "Nous pouvons enfin ajouter du contenu au sein de la pop up des marqueurs que nous avons cr\u00e9\u00e9, en passant un chaine de caract\u00e8re au sein de la m\u00e9thode **popup**"
     ]
    },
    {
     "cell_type": "code",
     "collapsed": false,
     "input": [
      "map.simple_marker([47.87967,1.90812],popup=\"Bravo ! Vous avez ajout\u00e9 une pop up.\")\n",
      "inline_map(map)"
     ],
     "language": "python",
     "metadata": {},
     "outputs": []
    },
    {
     "cell_type": "heading",
     "level": 2,
     "metadata": {},
     "source": [
      "Cr\u00e9er des rep\u00e8res \u00e0 partir d'un DataFrame"
     ]
    },
    {
     "cell_type": "markdown",
     "metadata": {},
     "source": [
      "Nous pouvons donc appliquer la m\u00eame m\u00e9thode \u00e0 partir de donn\u00e9es issues d'un DataFrame. \n",
      "\n",
      "Nous pouvons par exemple afficher une carte de France des emplacements des restaurants McDonalds. "
     ]
    },
    {
     "cell_type": "markdown",
     "metadata": {},
     "source": [
      "Nous importons pandas : "
     ]
    },
    {
     "cell_type": "code",
     "collapsed": false,
     "input": [
      "import pandas as pd"
     ],
     "language": "python",
     "metadata": {},
     "outputs": []
    },
    {
     "cell_type": "markdown",
     "metadata": {},
     "source": [
      "Nous chargeons le fichier McDonalds_Fr. Celui-ci contient les latitudes, longitudes et nom de tous les McDonalds de France : "
     ]
    },
    {
     "cell_type": "code",
     "collapsed": false,
     "input": [
      "mcdo = pd.read_csv(\"data/McDonalds_Fr.csv\",encoding='latin-1')\n",
      "mcdo.head(3)"
     ],
     "language": "python",
     "metadata": {},
     "outputs": []
    },
    {
     "cell_type": "code",
     "collapsed": false,
     "input": [
      "mcdo.count()"
     ],
     "language": "python",
     "metadata": {},
     "outputs": []
    },
    {
     "cell_type": "markdown",
     "metadata": {},
     "source": [
      "Comme pr\u00e9c\u00e9demment, nous d\u00e9clarons une carte Folium : "
     ]
    },
    {
     "cell_type": "code",
     "collapsed": false,
     "input": [
      "map_mcdo = folium.Map(location=[48.8655909,2.378983], zoom_start=6, tiles='Stamen Toner')"
     ],
     "language": "python",
     "metadata": {},
     "outputs": []
    },
    {
     "cell_type": "markdown",
     "metadata": {},
     "source": [
      "Nous r\u00e9alisons une boucle \u00e0 partir des valeurs de notre DataFrame :"
     ]
    },
    {
     "cell_type": "code",
     "collapsed": false,
     "input": [
      "for x in mcdo.values:\n",
      "    location = []\n",
      "    location.append(x[1])\n",
      "    location.append(x[0])\n",
      "    map_mcdo.circle_marker(location,radius=4,fill_color='red',popup=x[2])"
     ],
     "language": "python",
     "metadata": {},
     "outputs": []
    },
    {
     "cell_type": "markdown",
     "metadata": {},
     "source": [
      "Nous appelons enfin la m\u00e9thode **inline_map** pour afficher notre carte : "
     ]
    },
    {
     "cell_type": "code",
     "collapsed": false,
     "input": [
      "inline_map(map_mcdo)"
     ],
     "language": "python",
     "metadata": {},
     "outputs": []
    },
    {
     "cell_type": "heading",
     "level": 2,
     "metadata": {},
     "source": [
      "Cr\u00e9er des zones g\u00e9ographiques \u00e0 partir de pandas et des fichiers GeoJSON"
     ]
    },
    {
     "cell_type": "markdown",
     "metadata": {},
     "source": [
      "Folium vous permet \u00e9galement de cr\u00e9er vos propres polyg\u00f4nes g\u00e9ographiques en se basant sur les standard TopoJSON / GeoJSON. Comme leur nom l'indique, ces fichiers sont des fichiers JSON d\u00e9crivant les fronti\u00e8res d'une zone g\u00e9ographique \u00e0 tracer. \n",
      "\n",
      "Il existe de nombreuses ressources en ligne permettant de r\u00e9cup\u00e9rer des fichiers TopoJSON existant ou de construire les siens. \n",
      "\n",
      "Nous prendrons dans cet exemple des fichiers issus de ce repo GitHub - https://github.com/gregoiredavid/france-geojson o\u00f9 sont disponibles les communes, les d\u00e9partements et les r\u00e9gions. "
     ]
    },
    {
     "cell_type": "markdown",
     "metadata": {},
     "source": [
      "Nous allons dans cet exemple, r\u00e9aliser une carte du taux de ch\u00f4mage en France, par d\u00e9partement. "
     ]
    },
    {
     "cell_type": "markdown",
     "metadata": {},
     "source": [
      "La m\u00e9thode **GeoJSON** permet d'afficher une zone g\u00e9ographique sur une carte. Il suffit dans ce cas de passer en argument le fichier TopoJSON source : "
     ]
    },
    {
     "cell_type": "code",
     "collapsed": false,
     "input": [
      "map_departement = folium.Map(location=[48,2], zoom_start=3)\n",
      "\n",
      "map_departement.geo_json(geo_path=\"data/departements.json\")"
     ],
     "language": "python",
     "metadata": {},
     "outputs": []
    },
    {
     "cell_type": "code",
     "collapsed": false,
     "input": [
      "inline_map(map_departement)"
     ],
     "language": "python",
     "metadata": {},
     "outputs": []
    },
    {
     "cell_type": "markdown",
     "metadata": {},
     "source": [
      "L'une des fonctionnalit\u00e9s assez sympa de Folium est la possibilit\u00e9 de s'interfacer avec un DataFrame Pandas. Voyez plut\u00f4t : "
     ]
    },
    {
     "cell_type": "markdown",
     "metadata": {},
     "source": [
      "Nous cr\u00e9ons un DataFrame **dep_data** \u00e0 partir des donn\u00e9es de ch\u00f4mage dont nous disposons :"
     ]
    },
    {
     "cell_type": "code",
     "collapsed": false,
     "input": [
      "dep_data = pd.read_csv('data/dep_chomage.csv')"
     ],
     "language": "python",
     "metadata": {},
     "outputs": []
    },
    {
     "cell_type": "code",
     "collapsed": false,
     "input": [
      "dep_data.head()"
     ],
     "language": "python",
     "metadata": {},
     "outputs": []
    },
    {
     "cell_type": "markdown",
     "metadata": {},
     "source": [
      "Nous cr\u00e9ons ensuite notre objet map_chomage en sp\u00e9cifiant nos param\u00e8tres :"
     ]
    },
    {
     "cell_type": "code",
     "collapsed": false,
     "input": [
      "map_chomage = folium.Map(location=[48,2], zoom_start=3)"
     ],
     "language": "python",
     "metadata": {},
     "outputs": []
    },
    {
     "cell_type": "markdown",
     "metadata": {},
     "source": [
      "Nous r\u00e9alisons ensuite le binding entre les donn\u00e9es de notre DataFrame et nos d\u00e9partements. \n",
      "\n",
      "Plusieurs \u00e9l\u00e9ments sont \u00e0 noter: \n",
      "    \n",
      "- Nous s\u00e9lectionnons au sein de **column**, deux colonnes. La premi\u00e8re doit pr\u00e9senter une cl\u00e9 commune avec notre fichier TopoJSON\n",
      "- Le param\u00e8tre **key_on** pr\u00e9cise la cl\u00e9 \u00e0 utiliser, au sein du fichier TopoJSON pour lier nos donn\u00e9es.  "
     ]
    },
    {
     "cell_type": "code",
     "collapsed": false,
     "input": [
      "map_chomage.geo_json(geo_path=\"data/departements.json\", data=dep_data,\n",
      "             columns=['CODE_DEPT', 'TAUX_CHOMAGE'],\n",
      "             key_on='feature.code',\n",
      "             fill_color='YlGn', fill_opacity=0.7, line_opacity=0.2,\n",
      "             legend_name='Unemployment Rate (%)')"
     ],
     "language": "python",
     "metadata": {},
     "outputs": []
    },
    {
     "cell_type": "markdown",
     "metadata": {},
     "source": [
      "Nous pouvons enfin exporter le r\u00e9sultat gr\u00e2ce \u00e0 la m\u00e9thode **create_map** "
     ]
    },
    {
     "cell_type": "code",
     "collapsed": false,
     "input": [
      "map_chomage.create_map(path='map_chomage.html')"
     ],
     "language": "python",
     "metadata": {},
     "outputs": []
    },
    {
     "cell_type": "markdown",
     "metadata": {},
     "source": [
      "Pour pouvoir visualiser le r\u00e9sultat, il vous faudra lancer un serveur local, gr\u00e2ce \u00e0 la commande : "
     ]
    },
    {
     "cell_type": "code",
     "collapsed": false,
     "input": [
      "python -m SimpleHTTPServer 8000"
     ],
     "language": "python",
     "metadata": {},
     "outputs": []
    }
   ],
   "metadata": {}
  }
 ]
}