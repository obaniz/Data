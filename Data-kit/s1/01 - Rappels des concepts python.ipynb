{
 "metadata": {
  "name": "",
  "signature": "sha256:71e9012d0f6ac3c53ec43a3ebeaa0484f00f508c48109f555d69f128175b716f"
 },
 "nbformat": 3,
 "nbformat_minor": 0,
 "worksheets": [
  {
   "cells": [
    {
     "cell_type": "heading",
     "level": 1,
     "metadata": {},
     "source": [
      "Introduction : iPython"
     ]
    },
    {
     "cell_type": "markdown",
     "metadata": {},
     "source": [
      "Bienvenue sur iPython!<br>\n",
      "    Nous allons utiliser cette interface tout au long de cette semaine de formation.<br>\n",
      "    N'h\u00e9sitez pas inserer des blocs \u00e0 votre convenance et \u00e0 tester un maximum de choses.\n",
      "    -> ***Insert  --> Insert below*** "
     ]
    },
    {
     "cell_type": "markdown",
     "metadata": {},
     "source": [
      "<img src=\"images/iPython_header.png\">"
     ]
    },
    {
     "cell_type": "markdown",
     "metadata": {},
     "source": [
      "Vous utiliserez la version ```code``` pour simuler une interface. <br> Les textes sont \u00e9crits en ```Markdown```. (sur la photo ci-dessus nous avons s\u00e9l\u00e9ctionn\u00e9 le bloc d'un titre d'o\u00f9 la version ```Heading 1```."
     ]
    },
    {
     "cell_type": "code",
     "collapsed": false,
     "input": [
      "\"Hello World\""
     ],
     "language": "python",
     "metadata": {},
     "outputs": []
    },
    {
     "cell_type": "heading",
     "level": 1,
     "metadata": {},
     "source": [
      "Python : les basics"
     ]
    },
    {
     "cell_type": "heading",
     "level": 2,
     "metadata": {},
     "source": [
      "Les m\u00e9thodes ```print``` et ```type```\n",
      "\n"
     ]
    },
    {
     "cell_type": "code",
     "collapsed": false,
     "input": [
      "a = \"Hello Les Chemminots !\""
     ],
     "language": "python",
     "metadata": {},
     "outputs": [],
     "prompt_number": 1
    },
    {
     "cell_type": "code",
     "collapsed": false,
     "input": [
      "# la methode print permet d'afficher une valeur\n",
      "\n",
      "a"
     ],
     "language": "python",
     "metadata": {},
     "outputs": [
      {
       "metadata": {},
       "output_type": "pyout",
       "prompt_number": 3,
       "text": [
        "'Hello Les Chemminots !'"
       ]
      }
     ],
     "prompt_number": 3
    },
    {
     "cell_type": "code",
     "collapsed": false,
     "input": [
      "# la methode type permet d'afficher la type d'objet qu'on manipule\n",
      "\n",
      "type(a)"
     ],
     "language": "python",
     "metadata": {},
     "outputs": [
      {
       "metadata": {},
       "output_type": "pyout",
       "prompt_number": 4,
       "text": [
        "str"
       ]
      }
     ],
     "prompt_number": 4
    },
    {
     "cell_type": "heading",
     "level": 2,
     "metadata": {},
     "source": [
      "Les types primitifs"
     ]
    },
    {
     "cell_type": "heading",
     "level": 4,
     "metadata": {},
     "source": [
      "Les 'string' ou chaines de caract\u00e8res "
     ]
    },
    {
     "cell_type": "code",
     "collapsed": false,
     "input": [
      "type(a)"
     ],
     "language": "python",
     "metadata": {},
     "outputs": [
      {
       "metadata": {},
       "output_type": "pyout",
       "prompt_number": 5,
       "text": [
        "str"
       ]
      }
     ],
     "prompt_number": 5
    },
    {
     "cell_type": "heading",
     "level": 4,
     "metadata": {},
     "source": [
      "Les 'integer' ou nombres entiers"
     ]
    },
    {
     "cell_type": "code",
     "collapsed": false,
     "input": [
      "type(3)"
     ],
     "language": "python",
     "metadata": {},
     "outputs": [
      {
       "metadata": {},
       "output_type": "pyout",
       "prompt_number": 6,
       "text": [
        "int"
       ]
      }
     ],
     "prompt_number": 6
    },
    {
     "cell_type": "heading",
     "level": 4,
     "metadata": {},
     "source": [
      "Les 'float' ou nombres d\u00e9cimaux"
     ]
    },
    {
     "cell_type": "code",
     "collapsed": false,
     "input": [
      "type(4.5)"
     ],
     "language": "python",
     "metadata": {},
     "outputs": [
      {
       "metadata": {},
       "output_type": "pyout",
       "prompt_number": 7,
       "text": [
        "float"
       ]
      }
     ],
     "prompt_number": 7
    },
    {
     "cell_type": "heading",
     "level": 4,
     "metadata": {},
     "source": [
      "Les bool\u00e9ens True ou False"
     ]
    },
    {
     "cell_type": "code",
     "collapsed": false,
     "input": [
      "type(True)"
     ],
     "language": "python",
     "metadata": {},
     "outputs": [
      {
       "metadata": {},
       "output_type": "pyout",
       "prompt_number": 8,
       "text": [
        "bool"
       ]
      }
     ],
     "prompt_number": 8
    },
    {
     "cell_type": "heading",
     "level": 2,
     "metadata": {},
     "source": [
      "Les listes et les dictionnaires "
     ]
    },
    {
     "cell_type": "heading",
     "level": 4,
     "metadata": {},
     "source": [
      "Les 'list'"
     ]
    },
    {
     "cell_type": "code",
     "collapsed": false,
     "input": [
      "type([2, 3, 4])"
     ],
     "language": "python",
     "metadata": {},
     "outputs": [
      {
       "metadata": {},
       "output_type": "pyout",
       "prompt_number": 9,
       "text": [
        "list"
       ]
      }
     ],
     "prompt_number": 9
    },
    {
     "cell_type": "markdown",
     "metadata": {},
     "source": [
      "Une liste est un tableau ordonn\u00e9 \u00e0 une dimension. "
     ]
    },
    {
     "cell_type": "code",
     "collapsed": false,
     "input": [
      "Beatles = [\"John\", \"Paul\", \"George\", \"Pete\"]\n",
      "print Beatles"
     ],
     "language": "python",
     "metadata": {},
     "outputs": [
      {
       "output_type": "stream",
       "stream": "stdout",
       "text": [
        "['John', 'Paul', 'George', 'Pete']\n"
       ]
      }
     ],
     "prompt_number": 10
    },
    {
     "cell_type": "code",
     "collapsed": false,
     "input": [
      "# La selection d'un \u00e9l\u00e9ment d'une liste se fait par son index, l'indexation commence toujours par 0.\n",
      "\n",
      "print \"Chanteur 1: \" + Beatles[0]"
     ],
     "language": "python",
     "metadata": {},
     "outputs": [
      {
       "output_type": "stream",
       "stream": "stdout",
       "text": [
        "Chanteur 1: John\n"
       ]
      }
     ],
     "prompt_number": 11
    },
    {
     "cell_type": "code",
     "collapsed": false,
     "input": [
      "# Il est possible de changer un \u00e9l\u00e9ment de la fa\u00e7on suivante :\n",
      "Beatles[3] = \"Ringo\"\n",
      "print Beatles"
     ],
     "language": "python",
     "metadata": {},
     "outputs": [
      {
       "output_type": "stream",
       "stream": "stdout",
       "text": [
        "['John', 'Paul', 'George', 'Ringo']\n"
       ]
      }
     ],
     "prompt_number": 12
    },
    {
     "cell_type": "code",
     "collapsed": false,
     "input": [
      "# Il est possible d'ajouter un \u00e9l\u00e9ment avec la fonction append :\n",
      "Beatles.append(\"Yoko\")\n",
      "print Beatles"
     ],
     "language": "python",
     "metadata": {},
     "outputs": [
      {
       "output_type": "stream",
       "stream": "stdout",
       "text": [
        "['John', 'Paul', 'George', 'Ringo', 'Yoko']\n"
       ]
      }
     ],
     "prompt_number": 13
    },
    {
     "cell_type": "code",
     "collapsed": false,
     "input": [
      "# Cette fois-ci par les index on rajoute \"Yoko\" \u00e0 c\u00f4t\u00e9 de John (on force l'indexation naturelle) :\n",
      "Beatles.insert(1, \"Yoko\")\n",
      "print Beatles"
     ],
     "language": "python",
     "metadata": {},
     "outputs": [
      {
       "output_type": "stream",
       "stream": "stdout",
       "text": [
        "['John', 'Yoko', 'Paul', 'George', 'Ringo', 'Yoko']\n"
       ]
      }
     ],
     "prompt_number": 14
    },
    {
     "cell_type": "code",
     "collapsed": false,
     "input": [
      "# On peut supprimer par l'index :\n",
      "del Beatles[5]\n",
      "print Beatles"
     ],
     "language": "python",
     "metadata": {},
     "outputs": [
      {
       "output_type": "stream",
       "stream": "stdout",
       "text": [
        "['John', 'Yoko', 'Paul', 'George', 'Ringo']\n"
       ]
      }
     ],
     "prompt_number": 15
    },
    {
     "cell_type": "heading",
     "level": 4,
     "metadata": {},
     "source": [
      "Les 'dictionary' ou ensemble cl\u00e9 : valeur "
     ]
    },
    {
     "cell_type": "code",
     "collapsed": false,
     "input": [
      "type({'un':1, 'deux':2, 'trois': 3})"
     ],
     "language": "python",
     "metadata": {},
     "outputs": [
      {
       "metadata": {},
       "output_type": "pyout",
       "prompt_number": 16,
       "text": [
        "dict"
       ]
      }
     ],
     "prompt_number": 16
    },
    {
     "cell_type": "code",
     "collapsed": false,
     "input": [
      "# L'utilisation d'un dictionnaire se fait tr\u00e8s souvent pour contenir un grand nombre d'informations. \n",
      "dic_beatles = {'bassiste': 'Paul', 'guitariste':'George', 'chanteur':'John','batteur':'Ringo'}\n",
      "print dic_beatles"
     ],
     "language": "python",
     "metadata": {},
     "outputs": [
      {
       "output_type": "stream",
       "stream": "stdout",
       "text": [
        "{'chanteur': 'John', 'guitariste': 'George', 'batteur': 'Ringo', 'bassiste': 'Paul'}\n"
       ]
      }
     ],
     "prompt_number": 17
    },
    {
     "cell_type": "code",
     "collapsed": false,
     "input": [
      "# Il n'y a pas d'index, ce sont les cl\u00e9s qui nous permettent d'obtenir l'information.\n",
      "dic_beatles['bassiste']"
     ],
     "language": "python",
     "metadata": {},
     "outputs": [
      {
       "metadata": {},
       "output_type": "pyout",
       "prompt_number": 18,
       "text": [
        "'Paul'"
       ]
      }
     ],
     "prompt_number": 18
    },
    {
     "cell_type": "code",
     "collapsed": false,
     "input": [
      "# Nous pouvons rajouter un \u00e9l\u00e9ment en assignant de la fa\u00e7on suivante.\n",
      "dic_beatles['choriste'] = 'Yoko'\n",
      "print dic_beatles"
     ],
     "language": "python",
     "metadata": {},
     "outputs": [
      {
       "output_type": "stream",
       "stream": "stdout",
       "text": [
        "{'chanteur': 'John', 'guitariste': 'George', 'batteur': 'Ringo', 'choriste': 'Yoko', 'bassiste': 'Paul'}\n"
       ]
      }
     ],
     "prompt_number": 19
    },
    {
     "cell_type": "code",
     "collapsed": false,
     "input": [
      "# Nous pouvons aussi supprimer un \u00e9l\u00e9ment :\n",
      "del dic_beatles['choriste']\n",
      "print dic_beatles"
     ],
     "language": "python",
     "metadata": {},
     "outputs": [
      {
       "output_type": "stream",
       "stream": "stdout",
       "text": [
        "{'chanteur': 'John', 'guitariste': 'George', 'batteur': 'Ringo', 'bassiste': 'Paul'}\n"
       ]
      }
     ],
     "prompt_number": 20
    },
    {
     "cell_type": "heading",
     "level": 2,
     "metadata": {},
     "source": [
      "Variables & fonctions"
     ]
    },
    {
     "cell_type": "heading",
     "level": 3,
     "metadata": {},
     "source": [
      "Les variables"
     ]
    },
    {
     "cell_type": "markdown",
     "metadata": {},
     "source": [
      "Votre code est lu ligne par ligne, la seule fa\u00e7on de stocker un \u00e9l\u00e9ment afin de pouvoir le r\u00e9-utiliser plus tard est de l'**assigner \u00e0 une variable**"
     ]
    },
    {
     "cell_type": "code",
     "collapsed": false,
     "input": [
      "# Assignons la chaine de caract\u00e8re 'Bob' \u00e0 la variable Name\n",
      "Name = 'Bob'"
     ],
     "language": "python",
     "metadata": {},
     "outputs": [],
     "prompt_number": 21
    },
    {
     "cell_type": "code",
     "collapsed": false,
     "input": [
      "# On peut r\u00e9cup\u00e9rer la valeur d'une variable\n",
      "\n",
      "print \"Bonjour \" + Name"
     ],
     "language": "python",
     "metadata": {},
     "outputs": [
      {
       "output_type": "stream",
       "stream": "stdout",
       "text": [
        "Bonjour Bob\n"
       ]
      }
     ],
     "prompt_number": 22
    },
    {
     "cell_type": "heading",
     "level": 3,
     "metadata": {},
     "source": [
      "Les fonctions"
     ]
    },
    {
     "cell_type": "markdown",
     "metadata": {},
     "source": [
      "Une fonction est un ensemble d'op\u00e9ration permettant de passer d'un ou plusieurs \u00e9l\u00e9ments d'entr\u00e9e \u00e0 g\u00e9n\u00e9ralement un \u00e9l\u00e9ment de sortie."
     ]
    },
    {
     "cell_type": "code",
     "collapsed": false,
     "input": [
      "# Ecrivons une fonction qui renvoie le carr\u00e9 d'un nombre a\n",
      "\n",
      "def carre(a):\n",
      "    resultat = a**2\n",
      "    return resultat\n",
      "\n",
      "carre(3)"
     ],
     "language": "python",
     "metadata": {},
     "outputs": [
      {
       "metadata": {},
       "output_type": "pyout",
       "prompt_number": 23,
       "text": [
        "9"
       ]
      }
     ],
     "prompt_number": 23
    },
    {
     "cell_type": "heading",
     "level": 2,
     "metadata": {},
     "source": [
      "Les op\u00e9rateurs"
     ]
    },
    {
     "cell_type": "markdown",
     "metadata": {},
     "source": [
      "\\> strictement sup\u00e9rieur (respectivement < strictement inf\u00e9rieur)"
     ]
    },
    {
     "cell_type": "code",
     "collapsed": false,
     "input": [
      "2 > 3 "
     ],
     "language": "python",
     "metadata": {},
     "outputs": [
      {
       "metadata": {},
       "output_type": "pyout",
       "prompt_number": 24,
       "text": [
        "False"
       ]
      }
     ],
     "prompt_number": 24
    },
    {
     "cell_type": "markdown",
     "metadata": {},
     "source": [
      "\\>= sup\u00e9rieur ou \u00e9gal (respectivement <= inf\u00e9rieur ou \u00e9gal)"
     ]
    },
    {
     "cell_type": "code",
     "collapsed": false,
     "input": [
      "2 >= 2"
     ],
     "language": "python",
     "metadata": {},
     "outputs": [
      {
       "metadata": {},
       "output_type": "pyout",
       "prompt_number": 25,
       "text": [
        "True"
       ]
      }
     ],
     "prompt_number": 25
    },
    {
     "cell_type": "markdown",
     "metadata": {},
     "source": [
      "== \u00e9gale \u00e0"
     ]
    },
    {
     "cell_type": "code",
     "collapsed": false,
     "input": [
      "2 == 2"
     ],
     "language": "python",
     "metadata": {},
     "outputs": [
      {
       "metadata": {},
       "output_type": "pyout",
       "prompt_number": 26,
       "text": [
        "True"
       ]
      }
     ],
     "prompt_number": 26
    },
    {
     "cell_type": "markdown",
     "metadata": {},
     "source": [
      "!= diff\u00e9rent de"
     ]
    },
    {
     "cell_type": "code",
     "collapsed": false,
     "input": [
      "2 != 2"
     ],
     "language": "python",
     "metadata": {},
     "outputs": [
      {
       "metadata": {},
       "output_type": "pyout",
       "prompt_number": 27,
       "text": [
        "False"
       ]
      }
     ],
     "prompt_number": 27
    },
    {
     "cell_type": "markdown",
     "metadata": {},
     "source": [
      "OR et AND"
     ]
    },
    {
     "cell_type": "code",
     "collapsed": false,
     "input": [
      "(2 != 2) | (2 != 3)"
     ],
     "language": "python",
     "metadata": {},
     "outputs": [
      {
       "metadata": {},
       "output_type": "pyout",
       "prompt_number": 28,
       "text": [
        "True"
       ]
      }
     ],
     "prompt_number": 28
    },
    {
     "cell_type": "code",
     "collapsed": false,
     "input": [
      "(2!=2) & (2!=4)"
     ],
     "language": "python",
     "metadata": {},
     "outputs": [
      {
       "metadata": {},
       "output_type": "pyout",
       "prompt_number": 29,
       "text": [
        "False"
       ]
      }
     ],
     "prompt_number": 29
    },
    {
     "cell_type": "code",
     "collapsed": false,
     "input": [],
     "language": "python",
     "metadata": {},
     "outputs": []
    }
   ],
   "metadata": {}
  }
 ]
}