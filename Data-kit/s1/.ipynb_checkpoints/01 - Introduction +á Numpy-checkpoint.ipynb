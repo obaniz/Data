{
 "metadata": {
  "name": "",
  "signature": "sha256:0235c4f46281ac5dfdfa98f8f8611780e4df808825d9f8129e00ecdf2f8c9fd2"
 },
 "nbformat": 3,
 "nbformat_minor": 0,
 "worksheets": [
  {
   "cells": [
    {
     "cell_type": "heading",
     "level": 1,
     "metadata": {},
     "source": [
      "Introduction \u00e0 Numpy"
     ]
    },
    {
     "cell_type": "markdown",
     "metadata": {},
     "source": [
      "Numpy, pour numerical Python est un package de base contenant des fonctions et des objets essentiels au traitement de donn\u00e9es en Python. \n",
      "\n",
      "Dans cette partie, vous apprendrez :\n",
      "\n",
      "- Ce qu'est l'objet ndarray\n",
      "- Comment s\u00e9lectionner des \u00e9l\u00e9ments\n",
      "- Comment appliquer des calculs vectoris\u00e9s "
     ]
    },
    {
     "cell_type": "code",
     "collapsed": false,
     "input": [
      "import numpy as np"
     ],
     "language": "python",
     "metadata": {},
     "outputs": [],
     "prompt_number": 1
    },
    {
     "cell_type": "heading",
     "level": 2,
     "metadata": {},
     "source": [
      "ndarray (Objet)"
     ]
    },
    {
     "cell_type": "markdown",
     "metadata": {},
     "source": [
      "ndarray est un tableau \u00e0 n-dimensions d'\u00e9l\u00e9ments de m\u00eame type. "
     ]
    },
    {
     "cell_type": "code",
     "collapsed": false,
     "input": [
      "#On cr\u00e9e ici un tableau (ndarray) de 2 lignes et 3 colonnes\n",
      "\n",
      "data = np.random.randn(2,3)\n",
      "\n",
      "data"
     ],
     "language": "python",
     "metadata": {},
     "outputs": [
      {
       "metadata": {},
       "output_type": "pyout",
       "prompt_number": 4,
       "text": [
        "array([[ 0.19648426, -0.0560837 ,  1.07907817],\n",
        "       [ 1.43938225,  0.71182123,  0.6991665 ]])"
       ]
      }
     ],
     "prompt_number": 4
    },
    {
     "cell_type": "markdown",
     "metadata": {},
     "source": [
      "ndarray permet de r\u00e9aliser des op\u00e9rations math\u00e9matiques en bloc. "
     ]
    },
    {
     "cell_type": "code",
     "collapsed": false,
     "input": [
      "#Multiplier tous les \u00e9l\u00e9ments par 10 \n",
      "\n",
      "print data*10"
     ],
     "language": "python",
     "metadata": {},
     "outputs": [
      {
       "output_type": "stream",
       "stream": "stdout",
       "text": [
        "[[  1.96484259  -0.56083699  10.79078169]\n",
        " [ 14.39382252   7.1182123    6.99166503]]\n"
       ]
      }
     ],
     "prompt_number": 5
    },
    {
     "cell_type": "markdown",
     "metadata": {},
     "source": [
      "La m\u00e9thode ***array*** permet de cr\u00e9er un ndarray :"
     ]
    },
    {
     "cell_type": "code",
     "collapsed": false,
     "input": [
      "# A partir d'une liste\n",
      "\n",
      "data1 = [1,2,3,4]\n",
      "\n",
      "arr1 = np.array(data1)\n",
      "\n",
      "# A partir d'une liste de liste \n",
      "\n",
      "data2 = [[1,2,3],[4,5,6]]\n",
      "\n",
      "arr2 = np.array(data2)"
     ],
     "language": "python",
     "metadata": {},
     "outputs": [],
     "prompt_number": 6
    },
    {
     "cell_type": "code",
     "collapsed": false,
     "input": [
      "arr2"
     ],
     "language": "python",
     "metadata": {},
     "outputs": [
      {
       "metadata": {},
       "output_type": "pyout",
       "prompt_number": 10,
       "text": [
        "array([[1, 2, 3],\n",
        "       [4, 5, 6]])"
       ]
      }
     ],
     "prompt_number": 10
    },
    {
     "cell_type": "markdown",
     "metadata": {},
     "source": [
      "Il existe d'autres fonctions pour cr\u00e9er facilement des ***ndarrays*** :"
     ]
    },
    {
     "cell_type": "code",
     "collapsed": false,
     "input": [
      "# cr\u00e9er des listes de 0\n",
      "\n",
      "np.zeros(15)\n",
      "\n",
      "# cr\u00e9er des listes de 1\n",
      "\n",
      "np.ones(15)\n",
      "\n",
      "# cr\u00e9er une s\u00e9quence \n",
      "\n",
      "np.arange(15)"
     ],
     "language": "python",
     "metadata": {},
     "outputs": []
    },
    {
     "cell_type": "code",
     "collapsed": false,
     "input": [
      "np.arange(15)"
     ],
     "language": "python",
     "metadata": {},
     "outputs": [
      {
       "metadata": {},
       "output_type": "pyout",
       "prompt_number": 13,
       "text": [
        "array([ 0,  1,  2,  3,  4,  5,  6,  7,  8,  9, 10, 11, 12, 13, 14])"
       ]
      }
     ],
     "prompt_number": 13
    },
    {
     "cell_type": "markdown",
     "metadata": {},
     "source": [
      "Les types de donn\u00e9es (DataTypes) sont cl\u00e9s dans la performance des ndarray. On peut afficher les types de donn\u00e9es avec la m\u00e9thode ***dtype***"
     ]
    },
    {
     "cell_type": "code",
     "collapsed": false,
     "input": [
      "# Il existe plusieurs types de donn\u00e9es int (integer), float (floating number) etc..\n",
      "\n",
      "arr = np.arange(15)\n",
      "\n",
      "arr.dtype"
     ],
     "language": "python",
     "metadata": {},
     "outputs": [
      {
       "metadata": {},
       "output_type": "pyout",
       "prompt_number": 14,
       "text": [
        "dtype('int64')"
       ]
      }
     ],
     "prompt_number": 14
    },
    {
     "cell_type": "markdown",
     "metadata": {},
     "source": [
      "On peut changer les types de donn\u00e9es d'un ndarray en utilisant la m\u00e9thode ***astype***"
     ]
    },
    {
     "cell_type": "code",
     "collapsed": false,
     "input": [
      "float_arr = arr.astype(np.float64)\n",
      "\n",
      "print float_arr"
     ],
     "language": "python",
     "metadata": {},
     "outputs": []
    },
    {
     "cell_type": "markdown",
     "metadata": {},
     "source": [
      "Changer les types de donn\u00e9es peut \u00eatre utile lorqu'on veut transformer du texte en nombre :"
     ]
    },
    {
     "cell_type": "code",
     "collapsed": false,
     "input": [
      "arr_string = np.array(['1.2','2.3','3.5'])\n",
      "\n",
      "arr_string.astype(np.float64).dtype"
     ],
     "language": "python",
     "metadata": {},
     "outputs": [
      {
       "metadata": {},
       "output_type": "pyout",
       "prompt_number": 20,
       "text": [
        "dtype('float64')"
       ]
      }
     ],
     "prompt_number": 20
    },
    {
     "cell_type": "heading",
     "level": 3,
     "metadata": {},
     "source": [
      "Indexing"
     ]
    },
    {
     "cell_type": "markdown",
     "metadata": {},
     "source": [
      "Il existe plusieurs fa\u00e7ons de s\u00e9lectionner des \u00e9l\u00e9ments au sein d'un array \u00e0 1 dimension :"
     ]
    },
    {
     "cell_type": "code",
     "collapsed": false,
     "input": [
      "# S\u00e9lection d'un \u00e9l\u00e9ment \n",
      "\n",
      "arr[5]"
     ],
     "language": "python",
     "metadata": {},
     "outputs": [
      {
       "metadata": {},
       "output_type": "pyout",
       "prompt_number": 21,
       "text": [
        "5"
       ]
      }
     ],
     "prompt_number": 21
    },
    {
     "cell_type": "code",
     "collapsed": false,
     "input": [
      "arr[5:9]"
     ],
     "language": "python",
     "metadata": {},
     "outputs": [
      {
       "metadata": {},
       "output_type": "pyout",
       "prompt_number": 22,
       "text": [
        "array([5, 6, 7, 8])"
       ]
      }
     ],
     "prompt_number": 22
    },
    {
     "cell_type": "markdown",
     "metadata": {},
     "source": [
      "La s\u00e9lection pour les array \u00e0 deux dimensions fonctionne comme ceci :"
     ]
    },
    {
     "cell_type": "code",
     "collapsed": false,
     "input": [
      "arr2d = np.array([[1,2,3],[4,5,6],[7,8,9]])"
     ],
     "language": "python",
     "metadata": {},
     "outputs": [],
     "prompt_number": 23
    },
    {
     "cell_type": "code",
     "collapsed": false,
     "input": [
      "arr2d"
     ],
     "language": "python",
     "metadata": {},
     "outputs": [
      {
       "metadata": {},
       "output_type": "pyout",
       "prompt_number": 24,
       "text": [
        "array([[1, 2, 3],\n",
        "       [4, 5, 6],\n",
        "       [7, 8, 9]])"
       ]
      }
     ],
     "prompt_number": 24
    },
    {
     "cell_type": "markdown",
     "metadata": {},
     "source": [
      "<img src='files/images/matrice.png'>"
     ]
    },
    {
     "cell_type": "code",
     "collapsed": false,
     "input": [
      "arr2d[:,1]"
     ],
     "language": "python",
     "metadata": {},
     "outputs": [
      {
       "metadata": {},
       "output_type": "pyout",
       "prompt_number": 28,
       "text": [
        "array([2, 5, 8])"
       ]
      }
     ],
     "prompt_number": 28
    },
    {
     "cell_type": "code",
     "collapsed": false,
     "input": [
      "# S\u00e9lectionner la premi\u00e8re ligne de arr2d\n",
      "\n",
      "arr2d[0]\n",
      "\n",
      "# S\u00e9lectionner la premi\u00e8re colonne de arr2d \n",
      "\n",
      "arr2d[:,0]\n",
      "\n",
      "# S\u00e9lectionner l'\u00e9l\u00e9ment \u00e0 la deuxi\u00e8me ligne, troisi\u00e8me colonne\n",
      "\n",
      "arr2d[1][2]\n",
      "arr2d[1,2]\n",
      "\n",
      "# Tous les \u00e9l\u00e9ments entre la deuxi\u00e8me et troisi\u00e8me ligne\n",
      "\n",
      "arr2d[1:]"
     ],
     "language": "python",
     "metadata": {},
     "outputs": []
    },
    {
     "cell_type": "heading",
     "level": 3,
     "metadata": {},
     "source": [
      "A vous :"
     ]
    },
    {
     "cell_type": "markdown",
     "metadata": {},
     "source": [
      "1) Cr\u00e9ez \u00e0 partir des 4 listes suivantes un ndarray :  <br /> \n",
      "     [19.23, 39.14, 67.78, 98.49],  <br /> \n",
      "     [56.78, 88.78, 99.01, 99.99],  <br /> \n",
      "     [12.00, 76.87, 91.09, 10.01],  <br /> \n",
      "     [99.01, 70.32, 64.89, 36.68]"
     ]
    },
    {
     "cell_type": "markdown",
     "metadata": {},
     "source": [
      "2) S\u00e9lectionnez les lignes 2 et 3"
     ]
    },
    {
     "cell_type": "markdown",
     "metadata": {},
     "source": [
      "3) S\u00e9l\u00e9ctionnez la colonne 4"
     ]
    },
    {
     "cell_type": "heading",
     "level": 3,
     "metadata": {},
     "source": [
      "Boolean Indexing "
     ]
    },
    {
     "cell_type": "markdown",
     "metadata": {},
     "source": [
      "La s\u00e9lection d'un ndarray peut \u00e9galement se faire en int\u00e9grant des conditions : "
     ]
    },
    {
     "cell_type": "code",
     "collapsed": false,
     "input": [
      "arr = np.arange(-10,10,0.5)\n",
      "\n",
      "# Renvoyer tous les \u00e9l\u00e9ments de arr positifs\n",
      "\n",
      "arr > 0 # renvoie un array de type bool\u00e9en comparant chacun des \u00e9l\u00e9ments \u00e0 la condition \n",
      "\n",
      "arr[arr > 0] # renvoie tous les \u00e9l\u00e9ments de arr v\u00e9rifiant la condition. On appelle cela le boolean indexing. "
     ],
     "language": "python",
     "metadata": {},
     "outputs": []
    },
    {
     "cell_type": "heading",
     "level": 3,
     "metadata": {},
     "source": [
      "A vous :"
     ]
    },
    {
     "cell_type": "markdown",
     "metadata": {},
     "source": [
      "- Renvoyer tous les \u00e9l\u00e9ments de arr n\u00e9gatifs \n",
      "- Renvoyer les \u00e9l\u00e9ments diff\u00e9rents de 2\n",
      "- Renvoyer les \u00e9l\u00e9ments \u00e9gaux \u00e0 2 ou 3"
     ]
    },
    {
     "cell_type": "markdown",
     "metadata": {},
     "source": [
      "La s\u00e9lection par op\u00e9rateur bool\u00e9en cr\u00e9e une copie d'un array. On peut bien entendu modifier les valeurs en utilisant la m\u00eame logique : "
     ]
    },
    {
     "cell_type": "code",
     "collapsed": false,
     "input": [
      "# Remplacer tous les \u00e9l\u00e9ments n\u00e9gatifs par 0 \n",
      "\n",
      "arr[arr < 0] = 0\n",
      "\n",
      "print arr"
     ],
     "language": "python",
     "metadata": {},
     "outputs": []
    },
    {
     "cell_type": "heading",
     "level": 2,
     "metadata": {},
     "source": [
      "Universal functions"
     ]
    },
    {
     "cell_type": "markdown",
     "metadata": {},
     "source": [
      "Les universal functions ou ***ufunc*** permettent de r\u00e9aliser des op\u00e9rations de mani\u00e8re rapide sur un ndarray. "
     ]
    },
    {
     "cell_type": "markdown",
     "metadata": {},
     "source": [
      "Numpy permet de r\u00e9aliser des traitements de donn\u00e9es sans passer par des boucles Python. \n",
      "\n",
      "Cette fa\u00e7on de traiter des donn\u00e9es, aussi appel\u00e9e ***Vectorization***, est plus performante (et plus \u00e9l\u00e9gante ;) )"
     ]
    },
    {
     "cell_type": "code",
     "collapsed": false,
     "input": [
      "# Renvoyer la racine carr\u00e9 pour chaque \u00e9l\u00e9ment \n",
      "\n",
      "arr = np.arange(1,10,1)\n",
      "\n",
      "np.sqrt(arr)"
     ],
     "language": "python",
     "metadata": {},
     "outputs": []
    },
    {
     "cell_type": "markdown",
     "metadata": {},
     "source": [
      "D'autres fonctions peuvent prendre deux tableaux en argument :"
     ]
    },
    {
     "cell_type": "code",
     "collapsed": false,
     "input": [
      "# Comparer deux tableaux et obtenir le maximum \n",
      "\n",
      "a = np.random.randn(10)\n",
      "b = np.random.randn(10)\n",
      "\n",
      "max = np.maximum(a,b)\n",
      "\n",
      "print max"
     ],
     "language": "python",
     "metadata": {},
     "outputs": []
    }
   ],
   "metadata": {}
  }
 ]
}