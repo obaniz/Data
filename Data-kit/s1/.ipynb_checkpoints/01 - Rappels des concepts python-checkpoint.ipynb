{
 "metadata": {
  "name": "",
  "signature": "sha256:2f3779fdf7fc14708fdd949b13b4f1e31c150b723060f2dfb881fa097cd99404"
 },
 "nbformat": 3,
 "nbformat_minor": 0,
 "worksheets": [
  {
   "cells": [
    {
     "cell_type": "heading",
     "level": 1,
     "metadata": {},
     "source": [
      "Introduction : iPython"
     ]
    },
    {
     "cell_type": "markdown",
     "metadata": {},
     "source": [
      "Bienvenue sur iPython!<br>\n",
      "    Nous allons utiliser cette interface tout au long de cette semaine de formation.<br>\n",
      "    N'h\u00e9sitez pas inserer des blocs \u00e0 votre convenance et \u00e0 tester un maximum de choses.\n",
      "    -> ***Insert  --> Insert below*** "
     ]
    },
    {
     "cell_type": "markdown",
     "metadata": {},
     "source": [
      "<img src=\"images/iPython_header.png\">"
     ]
    },
    {
     "cell_type": "markdown",
     "metadata": {},
     "source": [
      "Vous utiliserez la version ```code``` pour simuler une interface. <br> Les textes sont \u00e9crits en ```Markdown```. (sur la photo ci-dessus nous avons s\u00e9l\u00e9ctionn\u00e9 le bloc d'un titre d'o\u00f9 la version ```Heading 1```."
     ]
    },
    {
     "cell_type": "code",
     "collapsed": false,
     "input": [
      "\"Hello World\""
     ],
     "language": "python",
     "metadata": {},
     "outputs": []
    },
    {
     "cell_type": "heading",
     "level": 1,
     "metadata": {},
     "source": [
      "Python : les basics"
     ]
    },
    {
     "cell_type": "heading",
     "level": 2,
     "metadata": {},
     "source": [
      "Les m\u00e9thodes ```print``` et ```type```\n",
      "\n"
     ]
    },
    {
     "cell_type": "code",
     "collapsed": false,
     "input": [
      "a = \"Hello Les Chemminots !\""
     ],
     "language": "python",
     "metadata": {},
     "outputs": []
    },
    {
     "cell_type": "code",
     "collapsed": false,
     "input": [
      "# la methode print permet d'afficher une valeur\n",
      "\n",
      "print(a)"
     ],
     "language": "python",
     "metadata": {},
     "outputs": []
    },
    {
     "cell_type": "code",
     "collapsed": false,
     "input": [
      "# la methode type permet d'afficher la type d'objet qu'on manipule\n",
      "\n",
      "type(a)"
     ],
     "language": "python",
     "metadata": {},
     "outputs": []
    },
    {
     "cell_type": "heading",
     "level": 2,
     "metadata": {},
     "source": [
      "Les types primitifs"
     ]
    },
    {
     "cell_type": "heading",
     "level": 4,
     "metadata": {},
     "source": [
      "Les 'string' ou chaines de caract\u00e8res "
     ]
    },
    {
     "cell_type": "code",
     "collapsed": false,
     "input": [
      "type(a)"
     ],
     "language": "python",
     "metadata": {},
     "outputs": []
    },
    {
     "cell_type": "heading",
     "level": 4,
     "metadata": {},
     "source": [
      "Les 'integer' ou nombres entiers"
     ]
    },
    {
     "cell_type": "code",
     "collapsed": false,
     "input": [
      "type(3)"
     ],
     "language": "python",
     "metadata": {},
     "outputs": []
    },
    {
     "cell_type": "heading",
     "level": 4,
     "metadata": {},
     "source": [
      "Les 'float' ou nombres d\u00e9cimaux"
     ]
    },
    {
     "cell_type": "code",
     "collapsed": false,
     "input": [
      "type(4.5)"
     ],
     "language": "python",
     "metadata": {},
     "outputs": []
    },
    {
     "cell_type": "heading",
     "level": 4,
     "metadata": {},
     "source": [
      "Les bool\u00e9ens True ou False"
     ]
    },
    {
     "cell_type": "code",
     "collapsed": false,
     "input": [
      "type(True)"
     ],
     "language": "python",
     "metadata": {},
     "outputs": []
    },
    {
     "cell_type": "heading",
     "level": 2,
     "metadata": {},
     "source": [
      "Les listes et les dictionnaires "
     ]
    },
    {
     "cell_type": "heading",
     "level": 4,
     "metadata": {},
     "source": [
      "Les 'list'"
     ]
    },
    {
     "cell_type": "code",
     "collapsed": false,
     "input": [
      "type([2, 3, 4])"
     ],
     "language": "python",
     "metadata": {},
     "outputs": []
    },
    {
     "cell_type": "markdown",
     "metadata": {},
     "source": [
      "Une liste est un tableau ordonn\u00e9 \u00e0 une dimension. "
     ]
    },
    {
     "cell_type": "code",
     "collapsed": false,
     "input": [
      "Beatles = [\"John\", \"Paul\", \"George\", \"Pete\"]\n",
      "print Beatles"
     ],
     "language": "python",
     "metadata": {},
     "outputs": []
    },
    {
     "cell_type": "code",
     "collapsed": false,
     "input": [
      "# La selection d'un \u00e9l\u00e9ment d'une liste se fait par son index, l'indexation commence toujours par 0.\n",
      "\n",
      "print \"Chanteur 1: \" + Beatles[0]"
     ],
     "language": "python",
     "metadata": {},
     "outputs": []
    },
    {
     "cell_type": "code",
     "collapsed": false,
     "input": [
      "# Il est possible de changer un \u00e9l\u00e9ment de la fa\u00e7on suivante :\n",
      "Beatles[3] = \"Ringo\"\n",
      "print Beatles\n"
     ],
     "language": "python",
     "metadata": {},
     "outputs": []
    },
    {
     "cell_type": "code",
     "collapsed": false,
     "input": [
      "# Il est possible d'ajouter un \u00e9l\u00e9ment avec la fonction append :\n",
      "Beatles.append(\"Yoko\")\n",
      "print Beatles"
     ],
     "language": "python",
     "metadata": {},
     "outputs": []
    },
    {
     "cell_type": "code",
     "collapsed": false,
     "input": [
      "# Cette fois-ci par les index on rajoute \"Yoko\" \u00e0 c\u00f4t\u00e9 de John (on force l'indexation naturelle) :\n",
      "Beatles.insert(1, \"Yoko\")\n",
      "print Beatles"
     ],
     "language": "python",
     "metadata": {},
     "outputs": []
    },
    {
     "cell_type": "code",
     "collapsed": false,
     "input": [
      "# On peut supprimer par l'index :\n",
      "del Beatles[5]\n",
      "print Beatles"
     ],
     "language": "python",
     "metadata": {},
     "outputs": []
    },
    {
     "cell_type": "heading",
     "level": 4,
     "metadata": {},
     "source": [
      "Les 'dictionary' ou ensemble cl\u00e9 : valeur "
     ]
    },
    {
     "cell_type": "code",
     "collapsed": false,
     "input": [
      "type({'un':1, 'deux':2, 'trois': 3})"
     ],
     "language": "python",
     "metadata": {},
     "outputs": []
    },
    {
     "cell_type": "code",
     "collapsed": false,
     "input": [
      "# L'utilisation d'un dictionnaire se fait tr\u00e8s souvent pour contenir un grand nombre d'informations. \n",
      "dic_beatles = {'bassiste': 'Paul', 'guitariste':'George', 'chanteur':'John','batteur':'Ringo'}\n",
      "print dic_beatles"
     ],
     "language": "python",
     "metadata": {},
     "outputs": []
    },
    {
     "cell_type": "code",
     "collapsed": false,
     "input": [
      "# Il n'y a pas d'index, ce sont les cl\u00e9s qui nous permettent d'obtenir l'information.\n",
      "dic_beatles['bassiste']"
     ],
     "language": "python",
     "metadata": {},
     "outputs": []
    },
    {
     "cell_type": "code",
     "collapsed": false,
     "input": [
      "# Nous pouvons rajouter un \u00e9l\u00e9ment en assignant de la fa\u00e7on suivante.\n",
      "dic_beatles['choriste'] = 'Yoko'\n",
      "print dic_beatles"
     ],
     "language": "python",
     "metadata": {},
     "outputs": []
    },
    {
     "cell_type": "code",
     "collapsed": false,
     "input": [
      "# Nous pouvons aussi supprimer un \u00e9l\u00e9ment :\n",
      "del dic_beatles['choriste']\n",
      "print dic_beatles"
     ],
     "language": "python",
     "metadata": {},
     "outputs": []
    },
    {
     "cell_type": "heading",
     "level": 2,
     "metadata": {},
     "source": [
      "Variables & fonctions"
     ]
    },
    {
     "cell_type": "heading",
     "level": 3,
     "metadata": {},
     "source": [
      "Les variables"
     ]
    },
    {
     "cell_type": "markdown",
     "metadata": {},
     "source": [
      "Votre code est lu ligne par ligne, la seule fa\u00e7on de stocker un \u00e9l\u00e9ment afin de pouvoir le r\u00e9-utiliser plus tard est de l'**assigner \u00e0 une variable**"
     ]
    },
    {
     "cell_type": "code",
     "collapsed": false,
     "input": [
      "# Assignons la chaine de caract\u00e8re 'Bob' \u00e0 la variable Name\n",
      "Name = 'Bob'"
     ],
     "language": "python",
     "metadata": {},
     "outputs": []
    },
    {
     "cell_type": "code",
     "collapsed": false,
     "input": [
      "# On peut r\u00e9cup\u00e9rer la valeur d'une variable\n",
      "\n",
      "print \"Bonjour \" + Name"
     ],
     "language": "python",
     "metadata": {},
     "outputs": []
    },
    {
     "cell_type": "heading",
     "level": 3,
     "metadata": {},
     "source": [
      "Les fonctions"
     ]
    },
    {
     "cell_type": "markdown",
     "metadata": {},
     "source": [
      "Une fonction est un ensemble d'op\u00e9ration permettant de passer d'un ou plusieurs \u00e9l\u00e9ments d'entr\u00e9e \u00e0 g\u00e9n\u00e9ralement un \u00e9l\u00e9ment de sortie."
     ]
    },
    {
     "cell_type": "code",
     "collapsed": false,
     "input": [
      "# Ecrivons une fonction r\u00e9alisant la somme de deux nombres a et b\n",
      "def somme(a,b):\n",
      "    resultat = a+b\n",
      "    return resultat\n",
      "\n",
      "somme(34,45)"
     ],
     "language": "python",
     "metadata": {},
     "outputs": []
    },
    {
     "cell_type": "markdown",
     "metadata": {},
     "source": [
      "On d\u00e9finit une fonction avec la syntaxe suivante (o\u00f9 arg est l'argument que prend la fonction en entr\u00e9e)"
     ]
    },
    {
     "cell_type": "code",
     "collapsed": false,
     "input": [
      "def hello(prenom):\n",
      "   salutation = \"Hello\"  \n",
      "   return salutation + \" \" + prenom\n",
      "hello(\"Bob\")"
     ],
     "language": "python",
     "metadata": {},
     "outputs": []
    },
    {
     "cell_type": "heading",
     "level": 2,
     "metadata": {},
     "source": [
      "Les op\u00e9rateurs"
     ]
    },
    {
     "cell_type": "markdown",
     "metadata": {},
     "source": [
      "\\> strictement sup\u00e9rieur (respectivement < strictement inf\u00e9rieur)"
     ]
    },
    {
     "cell_type": "code",
     "collapsed": false,
     "input": [
      "2 > 3 "
     ],
     "language": "python",
     "metadata": {},
     "outputs": []
    },
    {
     "cell_type": "markdown",
     "metadata": {},
     "source": [
      "\\>= sup\u00e9rieur ou \u00e9gal (respectivement <= inf\u00e9rieur ou \u00e9gal)"
     ]
    },
    {
     "cell_type": "code",
     "collapsed": false,
     "input": [
      "2 >= 2"
     ],
     "language": "python",
     "metadata": {},
     "outputs": []
    },
    {
     "cell_type": "markdown",
     "metadata": {},
     "source": [
      "== \u00e9gale \u00e0"
     ]
    },
    {
     "cell_type": "code",
     "collapsed": false,
     "input": [
      "2 == 2"
     ],
     "language": "python",
     "metadata": {},
     "outputs": []
    },
    {
     "cell_type": "markdown",
     "metadata": {},
     "source": [
      "!= diff\u00e9rent de"
     ]
    },
    {
     "cell_type": "code",
     "collapsed": false,
     "input": [
      "2 != 2"
     ],
     "language": "python",
     "metadata": {},
     "outputs": []
    },
    {
     "cell_type": "markdown",
     "metadata": {},
     "source": [
      "OR et AND"
     ]
    },
    {
     "cell_type": "code",
     "collapsed": false,
     "input": [
      "(2 != 2) | (2 != 3)"
     ],
     "language": "python",
     "metadata": {},
     "outputs": []
    },
    {
     "cell_type": "code",
     "collapsed": false,
     "input": [
      "(2!=2) & (2!=4)"
     ],
     "language": "python",
     "metadata": {},
     "outputs": []
    },
    {
     "cell_type": "code",
     "collapsed": false,
     "input": [],
     "language": "python",
     "metadata": {},
     "outputs": []
    }
   ],
   "metadata": {}
  }
 ]
}